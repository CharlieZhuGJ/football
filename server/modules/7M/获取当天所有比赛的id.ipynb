{
 "cells": [
  {
   "cell_type": "code",
   "execution_count": 1,
   "metadata": {},
   "outputs": [],
   "source": [
    "import json\n",
    "import urllib\n",
    "import urllib.request"
   ]
  },
  {
   "cell_type": "code",
   "execution_count": 2,
   "metadata": {},
   "outputs": [],
   "source": [
    "def get_data_by_url(url):\n",
    "    req = urllib.request.urlopen(url)\n",
    "    return req.read().decode()"
   ]
  },
  {
   "cell_type": "code",
   "execution_count": 3,
   "metadata": {},
   "outputs": [],
   "source": [
    "report = \"http://report.7m.com.cn/data/list/gb/2021-05-02.js\""
   ]
  },
  {
   "cell_type": "code",
   "execution_count": 4,
   "metadata": {},
   "outputs": [],
   "source": [
    "comp_list = get_data_by_url(report)"
   ]
  },
  {
   "cell_type": "code",
   "execution_count": 8,
   "metadata": {},
   "outputs": [],
   "source": [
    "comp_list = json.loads(comp_list.split(\" = \")[1][:-1])"
   ]
  },
  {
   "cell_type": "code",
   "execution_count": 9,
   "metadata": {},
   "outputs": [
    {
     "name": "stdout",
     "output_type": "stream",
     "text": [
      "{'GameId': '4125185', 'StartTime': '2021-05-01 18:00:00', 'CompetitionId': '250', 'CompetitionColor': '0542B1', 'CompetitionName': '韩职联', 'HomeId': '1901', 'HomeName': '蔚山现代', 'AwayId': '16084', 'AwayName': '光州市民'}\n",
      "{'GameId': '4064251', 'StartTime': '2021-05-01 19:30:00', 'CompetitionId': '92', 'CompetitionColor': 'F90000', 'CompetitionName': '英超', 'HomeId': '112', 'HomeName': '水晶宫', 'AwayId': '240', 'AwayName': '曼彻斯特城'}\n",
      "{'GameId': '4065424', 'StartTime': '2021-05-01 19:30:00', 'CompetitionId': '177', 'CompetitionColor': 'DA303B', 'CompetitionName': '英冠', 'HomeId': '42', 'HomeName': '谢菲尔德星期三', 'AwayId': '195', 'AwayName': '诺丁汉森林'}\n",
      "{'GameId': '4073136', 'StartTime': '2021-05-01 20:00:00', 'CompetitionId': '85', 'CompetitionColor': '993300', 'CompetitionName': '西甲', 'HomeId': '17', 'HomeName': '埃瓦尔', 'AwayId': '557', 'AwayName': '阿拉维斯'}\n",
      "{'GameId': '4074678', 'StartTime': '2021-05-01 21:00:00', 'CompetitionId': '34', 'CompetitionColor': '006EF0', 'CompetitionName': '意甲', 'HomeId': '62', 'HomeName': '维罗纳', 'AwayId': '1653', 'AwayName': '斯佩齐亚'}\n",
      "{'GameId': '4136238', 'StartTime': '2021-05-01 21:00:00', 'CompetitionId': '103', 'CompetitionColor': '75821E', 'CompetitionName': '瑞典超', 'HomeId': '3244', 'HomeName': '天狼星', 'AwayId': '986', 'AwayName': '卡尔马'}\n",
      "{'GameId': '4049811', 'StartTime': '2021-05-01 21:30:00', 'CompetitionId': '165', 'CompetitionColor': '0000CC', 'CompetitionName': '俄超', 'HomeId': '215', 'HomeName': '莫斯科中央陆军', 'AwayId': '11215', 'AwayName': 'FK乌法'}\n",
      "{'GameId': '4064248', 'StartTime': '2021-05-01 22:00:00', 'CompetitionId': '92', 'CompetitionColor': 'F90000', 'CompetitionName': '英超', 'HomeId': '507', 'HomeName': '布莱顿', 'AwayId': '867', 'AwayName': '利兹联'}\n",
      "{'GameId': '4065416', 'StartTime': '2021-05-01 22:00:00', 'CompetitionId': '177', 'CompetitionColor': 'DA303B', 'CompetitionName': '英冠', 'HomeId': '463', 'HomeName': '伯明翰', 'AwayId': '327', 'AwayName': '卡迪夫城'}\n",
      "{'GameId': '4065418', 'StartTime': '2021-05-01 22:00:00', 'CompetitionId': '177', 'CompetitionColor': 'DA303B', 'CompetitionName': '英冠', 'HomeId': '368', 'HomeName': '哈德斯菲尔德', 'AwayId': '389', 'AwayName': '考文垂'}\n",
      "{'GameId': '4065419', 'StartTime': '2021-05-01 22:00:00', 'CompetitionId': '177', 'CompetitionColor': 'DA303B', 'CompetitionName': '英冠', 'HomeId': '615', 'HomeName': '卢顿', 'AwayId': '226', 'AwayName': '米德尔斯堡'}\n",
      "{'GameId': '4065420', 'StartTime': '2021-05-01 22:00:00', 'CompetitionId': '177', 'CompetitionColor': 'DA303B', 'CompetitionName': '英冠', 'HomeId': '225', 'HomeName': '米尔沃尔', 'AwayId': '773', 'AwayName': '布里斯托城'}\n",
      "{'GameId': '4065422', 'StartTime': '2021-05-01 22:00:00', 'CompetitionId': '177', 'CompetitionColor': 'DA303B', 'CompetitionName': '英冠', 'HomeId': '182', 'HomeName': '普雷斯顿', 'AwayId': '499', 'AwayName': '巴恩斯利'}\n",
      "{'GameId': '4065423', 'StartTime': '2021-05-01 22:00:00', 'CompetitionId': '177', 'CompetitionColor': 'DA303B', 'CompetitionName': '英冠', 'HomeId': '258', 'HomeName': '罗瑟汉姆', 'AwayId': '451', 'AwayName': '布莱克本'}\n",
      "{'GameId': '4065425', 'StartTime': '2021-05-01 22:00:00', 'CompetitionId': '177', 'CompetitionColor': 'DA303B', 'CompetitionName': '英冠', 'HomeId': '125', 'HomeName': '斯托克城', 'AwayId': '617', 'AwayName': '女王公园巡游者'}\n",
      "{'GameId': '4065426', 'StartTime': '2021-05-01 22:00:00', 'CompetitionId': '177', 'CompetitionColor': 'DA303B', 'CompetitionName': '英冠', 'HomeId': '889', 'HomeName': '斯旺西', 'AwayId': '438', 'AwayName': '德比郡'}\n",
      "{'GameId': '4065427', 'StartTime': '2021-05-01 22:00:00', 'CompetitionId': '177', 'CompetitionColor': 'DA303B', 'CompetitionName': '英冠', 'HomeId': '608', 'HomeName': '韦康比流浪者', 'AwayId': '674', 'AwayName': '伯恩茅斯'}\n",
      "{'GameId': '4073137', 'StartTime': '2021-05-01 22:15:00', 'CompetitionId': '85', 'CompetitionColor': '993300', 'CompetitionName': '西甲', 'HomeId': '563', 'HomeName': '艾尔切', 'AwayId': '664', 'AwayName': '马德里竞技'}\n",
      "{'GameId': '4048658', 'StartTime': '2021-05-01 22:30:00', 'CompetitionId': '99', 'CompetitionColor': 'FF6600', 'CompetitionName': '荷甲', 'HomeId': '1398', 'HomeName': '赫拉克莱斯', 'AwayId': '1523', 'AwayName': '芬洛'}\n",
      "{'GameId': '4077136', 'StartTime': '2021-05-01 22:30:00', 'CompetitionId': '88', 'CompetitionColor': '5B8409', 'CompetitionName': '葡超', 'HomeId': '339', 'HomeName': '基维森特', 'AwayId': '8587', 'AwayName': '法伦斯'}\n",
      "{'GameId': '4041011', 'StartTime': '2021-05-01 23:00:00', 'CompetitionId': '93', 'CompetitionColor': '0059A7', 'CompetitionName': '法甲', 'HomeId': '517', 'HomeName': '巴黎圣日耳曼', 'AwayId': '299', 'AwayName': '朗斯'}\n",
      "{'GameId': '4074671', 'StartTime': '2021-05-01 23:59:00', 'CompetitionId': '34', 'CompetitionColor': '006EF0', 'CompetitionName': '意甲', 'HomeId': '1220', 'HomeName': '克罗托内', 'AwayId': '370', 'AwayName': '国际米兰'}\n",
      "{'GameId': '4064250', 'StartTime': '2021-05-02 00:30:00', 'CompetitionId': '92', 'CompetitionColor': 'F90000', 'CompetitionName': '英超', 'HomeId': '444', 'HomeName': '切尔西', 'AwayId': '398', 'AwayName': '富勒姆'}\n",
      "{'GameId': '4073139', 'StartTime': '2021-05-02 00:30:00', 'CompetitionId': '85', 'CompetitionColor': '993300', 'CompetitionName': '西甲', 'HomeId': '3619', 'HomeName': '韦斯卡', 'AwayId': '344', 'AwayName': '皇家社会'}\n",
      "{'GameId': '4144542', 'StartTime': '2021-05-02 01:00:00', 'CompetitionId': '107', 'CompetitionColor': 'AA1A8D', 'CompetitionName': '美联', 'HomeId': '197', 'HomeName': '纽约红牛', 'AwayId': '6', 'AwayName': '芝加哥火焰'}\n",
      "{'GameId': '4077139', 'StartTime': '2021-05-02 01:00:00', 'CompetitionId': '88', 'CompetitionColor': '5B8409', 'CompetitionName': '葡超', 'HomeId': '31', 'HomeName': '辛达卡拉', 'AwayId': '461', 'AwayName': '博阿维斯塔'}\n",
      "{'GameId': '4041523', 'StartTime': '2021-05-02 02:00:00', 'CompetitionId': '171', 'CompetitionColor': '000FB8', 'CompetitionName': '法乙', 'HomeId': '298', 'HomeName': '勒阿弗尔', 'AwayId': '12466', 'AwayName': '尚布利'}\n",
      "{'GameId': '4041519', 'StartTime': '2021-05-02 02:00:00', 'CompetitionId': '171', 'CompetitionColor': '000FB8', 'CompetitionName': '法乙', 'HomeId': '1082', 'HomeName': '卡昂', 'AwayId': '193', 'AwayName': '欧塞尔'}\n",
      "{'GameId': '4041525', 'StartTime': '2021-05-02 02:00:00', 'CompetitionId': '171', 'CompetitionColor': '000FB8', 'CompetitionName': '法乙', 'HomeId': '1095', 'HomeName': '尼奧特', 'AwayId': '1967', 'AwayName': '罗德兹'}\n",
      "{'GameId': '4048663', 'StartTime': '2021-05-02 02:00:00', 'CompetitionId': '99', 'CompetitionColor': 'FF6600', 'CompetitionName': '荷甲', 'HomeId': '588', 'HomeName': '瓦尔韦克', 'AwayId': '558', 'AwayName': '阿尔克马尔'}\n",
      "{'GameId': '4144543', 'StartTime': '2021-05-02 02:00:00', 'CompetitionId': '107', 'CompetitionColor': 'AA1A8D', 'CompetitionName': '美联', 'HomeId': '2502', 'HomeName': '皇家盐湖城', 'AwayId': '309', 'AwayName': '肯萨斯体育会'}\n",
      "{'GameId': '4041527', 'StartTime': '2021-05-02 02:00:00', 'CompetitionId': '171', 'CompetitionColor': '000FB8', 'CompetitionName': '法乙', 'HomeId': '2100', 'HomeName': '波城', 'AwayId': '650', 'AwayName': '阿雅克肖'}\n",
      "{'GameId': '4134309', 'StartTime': '2021-05-02 02:30:00', 'CompetitionId': '52', 'CompetitionColor': '690000', 'CompetitionName': '德国杯', 'HomeId': '415', 'HomeName': '多特蒙德', 'AwayId': '1380', 'AwayName': '荷尔斯泰因基尔'}\n",
      "{'GameId': '4074669', 'StartTime': '2021-05-02 02:45:00', 'CompetitionId': '34', 'CompetitionColor': '006EF0', 'CompetitionName': '意甲', 'HomeId': '600', 'HomeName': 'AC米兰', 'AwayId': '1630', 'AwayName': '贝内文托'}\n",
      "{'GameId': '4041005', 'StartTime': '2021-05-02 03:00:00', 'CompetitionId': '93', 'CompetitionColor': '0059A7', 'CompetitionName': '法甲', 'HomeId': '284', 'HomeName': '里尔', 'AwayId': '210', 'AwayName': '尼斯'}\n",
      "{'GameId': '4064252', 'StartTime': '2021-05-02 03:00:00', 'CompetitionId': '92', 'CompetitionColor': 'F90000', 'CompetitionName': '英超', 'HomeId': '551', 'HomeName': '埃弗顿', 'AwayId': '571', 'AwayName': '阿斯顿维拉'}\n",
      "{'GameId': '4144544', 'StartTime': '2021-05-02 03:00:00', 'CompetitionId': '107', 'CompetitionColor': 'AA1A8D', 'CompetitionName': '美联', 'HomeId': '4827', 'HomeName': '蒙特利尔冲击', 'AwayId': '382', 'AwayName': '哥伦布机员'}\n",
      "{'GameId': '4073140', 'StartTime': '2021-05-02 03:00:00', 'CompetitionId': '85', 'CompetitionColor': '993300', 'CompetitionName': '西甲', 'HomeId': '345', 'HomeName': '皇家马德里', 'AwayId': '665', 'AwayName': '奥萨苏纳'}\n",
      "{'GameId': '4077140', 'StartTime': '2021-05-02 03:30:00', 'CompetitionId': '88', 'CompetitionColor': '5B8409', 'CompetitionName': '葡超', 'HomeId': '117', 'HomeName': '葡萄牙体育', 'AwayId': '369', 'AwayName': '国民队'}\n",
      "{'GameId': '4144545', 'StartTime': '2021-05-02 03:30:00', 'CompetitionId': '107', 'CompetitionColor': 'AA1A8D', 'CompetitionName': '美联', 'HomeId': '4376', 'HomeName': '休斯顿迪纳摩', 'AwayId': '451749', 'AwayName': '洛杉矶FC'}\n",
      "{'GameId': '4114219', 'StartTime': '2021-05-02 06:00:00', 'CompetitionId': '191', 'CompetitionColor': '098000', 'CompetitionName': '墨联', 'HomeId': '1349', 'HomeName': '瓜达拉哈拉', 'AwayId': '1350', 'AwayName': '塔格雷斯'}\n",
      "{'GameId': '4144546', 'StartTime': '2021-05-02 07:00:00', 'CompetitionId': '107', 'CompetitionColor': 'AA1A8D', 'CompetitionName': '美联', 'HomeId': '28', 'HomeName': '新英格兰革命', 'AwayId': '115650', 'AwayName': '亚特兰大联'}\n",
      "{'GameId': '4144547', 'StartTime': '2021-05-02 07:30:00', 'CompetitionId': '107', 'CompetitionColor': 'AA1A8D', 'CompetitionName': '美联', 'HomeId': '16136', 'HomeName': '奥兰多城', 'AwayId': '25052', 'AwayName': '辛辛那提FC'}\n",
      "{'GameId': '4144548', 'StartTime': '2021-05-02 07:30:00', 'CompetitionId': '107', 'CompetitionColor': 'AA1A8D', 'CompetitionName': '美联', 'HomeId': '13404', 'HomeName': '费城联合', 'AwayId': '21958', 'AwayName': '纽约城'}\n",
      "{'GameId': '4144549', 'StartTime': '2021-05-02 08:00:00', 'CompetitionId': '107', 'CompetitionColor': 'AA1A8D', 'CompetitionName': '美联', 'HomeId': '441', 'HomeName': 'FC达拉斯', 'AwayId': '4848', 'AwayName': '波特兰木材'}\n",
      "{'GameId': '4144550', 'StartTime': '2021-05-02 08:00:00', 'CompetitionId': '107', 'CompetitionColor': 'AA1A8D', 'CompetitionName': '美联', 'HomeId': '4805', 'HomeName': '明尼苏达联', 'AwayId': '648380', 'AwayName': '奥斯丁FC'}\n",
      "{'GameId': '4114220', 'StartTime': '2021-05-02 08:00:00', 'CompetitionId': '191', 'CompetitionColor': '098000', 'CompetitionName': '墨联', 'HomeId': '637', 'HomeName': '蓝十字', 'AwayId': '9755', 'AwayName': '蒂华纳'}\n",
      "{'GameId': '4114221', 'StartTime': '2021-05-02 10:06:00', 'CompetitionId': '191', 'CompetitionColor': '098000', 'CompetitionName': '墨联', 'HomeId': '1347', 'HomeName': '蒙特雷', 'AwayId': '633088', 'AwayName': '马萨特兰FC'}\n",
      "{'GameId': '4144551', 'StartTime': '2021-05-02 11:00:00', 'CompetitionId': '107', 'CompetitionColor': 'AA1A8D', 'CompetitionName': '美联', 'HomeId': '133', 'HomeName': '圣荷塞地震', 'AwayId': '347', 'AwayName': '华盛顿联队'}\n",
      "{'GameId': '4124666', 'StartTime': '2021-05-02 13:00:00', 'CompetitionId': '102', 'CompetitionColor': '339933', 'CompetitionName': '日联', 'HomeId': '435', 'HomeName': '大分三神', 'AwayId': '177', 'AwayName': '清水鼓动'}\n",
      "{'GameId': '4125186', 'StartTime': '2021-05-02 13:00:00', 'CompetitionId': '250', 'CompetitionColor': '0542B1', 'CompetitionName': '韩职联', 'HomeId': '1906', 'HomeName': '全北现代', 'AwayId': '4408', 'AwayName': '济州联队'}\n",
      "{'GameId': '4125515', 'StartTime': '2021-05-02 13:00:00', 'CompetitionId': '347', 'CompetitionColor': '6FC809', 'CompetitionName': '日乙', 'HomeId': '3632', 'HomeName': '水户蜀葵', 'AwayId': '10210', 'AwayName': '长崎成功丸'}\n",
      "{'GameId': '4124667', 'StartTime': '2021-05-02 14:00:00', 'CompetitionId': '102', 'CompetitionColor': '339933', 'CompetitionName': '日联', 'HomeId': '3633', 'HomeName': '湘南比马', 'AwayId': '1928', 'AwayName': '札幌冈萨多'}\n",
      "{'GameId': '4124677', 'StartTime': '2021-05-02 14:00:00', 'CompetitionId': '102', 'CompetitionColor': '339933', 'CompetitionName': '日联', 'HomeId': '436', 'HomeName': '大阪樱花', 'AwayId': '437', 'AwayName': '大阪钢巴'}\n",
      "{'GameId': '4125517', 'StartTime': '2021-05-02 14:00:00', 'CompetitionId': '347', 'CompetitionColor': '6FC809', 'CompetitionName': '日乙', 'HomeId': '10217', 'HomeName': '町田泽维亚', 'AwayId': '11817', 'AwayName': '山口雷法'}\n",
      "{'GameId': '4125519', 'StartTime': '2021-05-02 14:00:00', 'CompetitionId': '347', 'CompetitionColor': '6FC809', 'CompetitionName': '日乙', 'HomeId': '420', 'HomeName': '东京日视', 'AwayId': '2463', 'AwayName': '大宫松鼠'}\n",
      "{'GameId': '4110240', 'StartTime': '2021-05-02 14:05:00', 'CompetitionId': '339', 'CompetitionColor': 'CD5E31', 'CompetitionName': '澳A联', 'HomeId': '3357', 'HomeName': '墨尔本胜利', 'AwayId': '3358', 'AwayName': '中央海岸水手'}\n",
      "{'GameId': '4125187', 'StartTime': '2021-05-02 15:30:00', 'CompetitionId': '250', 'CompetitionColor': '0542B1', 'CompetitionName': '韩职联', 'HomeId': '1912', 'HomeName': '仁川联队', 'AwayId': '10106', 'AwayName': 'FC江原'}\n",
      "{'GameId': '4146850', 'StartTime': '2021-05-02 18:00:00', 'CompetitionId': '152', 'CompetitionColor': 'EC1E00', 'CompetitionName': '中超', 'HomeId': '994', 'HomeName': '河南嵩山龙门', 'AwayId': '146', 'AwayName': '山东泰山'}\n",
      "{'GameId': '4074672', 'StartTime': '2021-05-02 18:30:00', 'CompetitionId': '34', 'CompetitionColor': '006EF0', 'CompetitionName': '意甲', 'HomeId': '304', 'HomeName': '拉齐奥', 'AwayId': '174', 'AwayName': '热那亚'}\n",
      "{'GameId': '4041002', 'StartTime': '2021-05-02 19:00:00', 'CompetitionId': '93', 'CompetitionColor': '0059A7', 'CompetitionName': '法甲', 'HomeId': '468', 'HomeName': '波尔多', 'AwayId': '296', 'AwayName': '雷恩'}\n",
      "{'GameId': '4073143', 'StartTime': '2021-05-02 20:00:00', 'CompetitionId': '85', 'CompetitionColor': '993300', 'CompetitionName': '西甲', 'HomeId': '352', 'HomeName': '巴拉多利德', 'AwayId': '489', 'AwayName': '皇家贝蒂斯'}\n",
      "{'GameId': '4146858', 'StartTime': '2021-05-02 20:00:00', 'CompetitionId': '152', 'CompetitionColor': 'EC1E00', 'CompetitionName': '中超', 'HomeId': '1011', 'HomeName': '广州队', 'AwayId': '140', 'AwayName': '深圳队'}\n",
      "{'GameId': '4048655', 'StartTime': '2021-05-02 20:30:00', 'CompetitionId': '99', 'CompetitionColor': 'FF6600', 'CompetitionName': '荷甲', 'HomeId': '579', 'HomeName': '阿贾克斯', 'AwayId': '1399', 'AwayName': '埃蒙'}\n",
      "{'GameId': '4074670', 'StartTime': '2021-05-02 21:00:00', 'CompetitionId': '34', 'CompetitionColor': '006EF0', 'CompetitionName': '意甲', 'HomeId': '462', 'HomeName': '博洛尼亚', 'AwayId': '400', 'AwayName': '佛罗伦萨'}\n",
      "{'GameId': '4074673', 'StartTime': '2021-05-02 21:00:00', 'CompetitionId': '34', 'CompetitionColor': '006EF0', 'CompetitionName': '意甲', 'HomeId': '211', 'HomeName': '那不勒斯', 'AwayId': '325', 'AwayName': '卡利亚里'}\n",
      "{'GameId': '4041003', 'StartTime': '2021-05-02 21:00:00', 'CompetitionId': '93', 'CompetitionColor': '0059A7', 'CompetitionName': '法甲', 'HomeId': '1263', 'HomeName': '布雷斯特', 'AwayId': '206', 'AwayName': '南特'}\n",
      "{'GameId': '4041004', 'StartTime': '2021-05-02 21:00:00', 'CompetitionId': '93', 'CompetitionColor': '0059A7', 'CompetitionName': '法甲', 'HomeId': '1265', 'HomeName': '第戎', 'AwayId': '235', 'AwayName': '梅斯'}\n",
      "{'GameId': '4074675', 'StartTime': '2021-05-02 21:00:00', 'CompetitionId': '34', 'CompetitionColor': '006EF0', 'CompetitionName': '意甲', 'HomeId': '4014', 'HomeName': '萨索洛', 'AwayId': '568', 'AwayName': '亚特兰大'}\n",
      "{'GameId': '4064254', 'StartTime': '2021-05-02 21:00:00', 'CompetitionId': '92', 'CompetitionColor': 'F90000', 'CompetitionName': '英超', 'HomeId': '200', 'HomeName': '纽卡斯尔联', 'AwayId': '567', 'AwayName': '阿森纳'}\n",
      "{'GameId': '4041006', 'StartTime': '2021-05-02 21:00:00', 'CompetitionId': '93', 'CompetitionColor': '0059A7', 'CompetitionName': '法甲', 'HomeId': '265', 'HomeName': '洛里昂', 'AwayId': '1096', 'AwayName': '昂热'}\n",
      "{'GameId': '4041010', 'StartTime': '2021-05-02 21:00:00', 'CompetitionId': '93', 'CompetitionColor': '0059A7', 'CompetitionName': '法甲', 'HomeId': '1961', 'HomeName': '尼姆', 'AwayId': '1269', 'AwayName': '兰斯'}\n",
      "{'GameId': '4136240', 'StartTime': '2021-05-02 21:00:00', 'CompetitionId': '103', 'CompetitionColor': '75821E', 'CompetitionName': '瑞典超', 'HomeId': '654', 'HomeName': '厄勒布鲁', 'AwayId': '1320', 'AwayName': '北雪平'}\n",
      "{'GameId': '4073144', 'StartTime': '2021-05-02 22:15:00', 'CompetitionId': '85', 'CompetitionColor': '993300', 'CompetitionName': '西甲', 'HomeId': '63', 'HomeName': '比利亚雷亚尔', 'AwayId': '333', 'AwayName': '赫塔菲'}\n",
      "{'GameId': '4048659', 'StartTime': '2021-05-02 22:45:00', 'CompetitionId': '99', 'CompetitionColor': 'FF6600', 'CompetitionName': '荷甲', 'HomeId': '589', 'HomeName': 'PSV埃因霍温', 'AwayId': '364', 'AwayName': '海伦芬'}\n",
      "{'GameId': '4041009', 'StartTime': '2021-05-02 23:05:00', 'CompetitionId': '93', 'CompetitionColor': '0059A7', 'CompetitionName': '法甲', 'HomeId': '230', 'HomeName': '蒙彼利埃', 'AwayId': '130', 'AwayName': '圣埃蒂安'}\n",
      "{'GameId': '4064253', 'StartTime': '2021-05-02 23:30:00', 'CompetitionId': '92', 'CompetitionColor': 'F90000', 'CompetitionName': '英超', 'HomeId': '239', 'HomeName': '曼彻斯特联', 'AwayId': '279', 'AwayName': '利物浦'}\n",
      "{'GameId': '4136242', 'StartTime': '2021-05-02 23:30:00', 'CompetitionId': '103', 'CompetitionColor': '75821E', 'CompetitionName': '瑞典超', 'HomeId': '598', 'HomeName': 'AIK索尔纳', 'AwayId': '562', 'AwayName': '埃尔夫斯堡'}\n",
      "{'GameId': '4074677', 'StartTime': '2021-05-02 23:59:00', 'CompetitionId': '34', 'CompetitionColor': '006EF0', 'CompetitionName': '意甲', 'HomeId': '54', 'HomeName': '乌迪内斯', 'AwayId': '2', 'AwayName': '尤文图斯'}\n",
      "{'GameId': '4049817', 'StartTime': '2021-05-02 23:59:00', 'CompetitionId': '165', 'CompetitionColor': '0000CC', 'CompetitionName': '俄超', 'HomeId': '134', 'HomeName': '圣彼得堡泽尼特', 'AwayId': '805', 'AwayName': '莫斯科火车头'}\n",
      "{'GameId': '4073138', 'StartTime': '2021-05-03 00:30:00', 'CompetitionId': '85', 'CompetitionColor': '993300', 'CompetitionName': '西甲', 'HomeId': '2226', 'HomeName': '格拉纳达', 'AwayId': '735', 'AwayName': '卡迪斯'}\n",
      "{'GameId': '4064256', 'StartTime': '2021-05-03 02:15:00', 'CompetitionId': '92', 'CompetitionColor': 'F90000', 'CompetitionName': '英超', 'HomeId': '175', 'HomeName': '托特纳姆热刺', 'AwayId': '44', 'AwayName': '谢菲尔德联'}\n",
      "{'GameId': '4074674', 'StartTime': '2021-05-03 02:45:00', 'CompetitionId': '34', 'CompetitionColor': '006EF0', 'CompetitionName': '意甲', 'HomeId': '156', 'HomeName': '桑普多利亚', 'AwayId': '264', 'AwayName': '罗马'}\n",
      "{'GameId': '4073142', 'StartTime': '2021-05-03 03:00:00', 'CompetitionId': '85', 'CompetitionColor': '993300', 'CompetitionName': '西甲', 'HomeId': '350', 'HomeName': '巴伦西亚', 'AwayId': '514', 'AwayName': '巴塞罗那'}\n",
      "{'GameId': '4041008', 'StartTime': '2021-05-03 03:00:00', 'CompetitionId': '93', 'CompetitionColor': '0059A7', 'CompetitionName': '法甲', 'HomeId': '219', 'HomeName': '摩纳哥', 'AwayId': '292', 'AwayName': '里昂'}\n",
      "{'GameId': '4121869', 'StartTime': '2021-05-03 05:40:00', 'CompetitionId': '108', 'CompetitionColor': '0092F2', 'CompetitionName': '阿超', 'HomeId': '17645', 'HomeName': '中央科尔多瓦', 'AwayId': '969', 'AwayName': '竞技俱乐部'}\n",
      "{'GameId': '4114222', 'StartTime': '2021-05-03 08:06:00', 'CompetitionId': '191', 'CompetitionColor': '098000', 'CompetitionName': '墨联', 'HomeId': '1352', 'HomeName': '桑托斯拉古纳', 'AwayId': '1351', 'AwayName': '普埃布拉'}\n"
     ]
    }
   ],
   "source": [
    "for comp in comp_list:\n",
    "    print(comp)"
   ]
  },
  {
   "cell_type": "code",
   "execution_count": null,
   "metadata": {},
   "outputs": [],
   "source": []
  }
 ],
 "metadata": {
  "kernelspec": {
   "display_name": "Python 3",
   "language": "python",
   "name": "python3"
  },
  "language_info": {
   "codemirror_mode": {
    "name": "ipython",
    "version": 3
   },
   "file_extension": ".py",
   "mimetype": "text/x-python",
   "name": "python",
   "nbconvert_exporter": "python",
   "pygments_lexer": "ipython3",
   "version": "3.7.6"
  }
 },
 "nbformat": 4,
 "nbformat_minor": 4
}
