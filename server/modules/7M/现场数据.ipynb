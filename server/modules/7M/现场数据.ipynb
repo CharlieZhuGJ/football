{
 "cells": [
  {
   "cell_type": "code",
   "execution_count": 30,
   "metadata": {},
   "outputs": [],
   "source": [
    "import json\n",
    "import urllib\n",
    "import urllib.request"
   ]
  },
  {
   "cell_type": "code",
   "execution_count": 3,
   "metadata": {},
   "outputs": [],
   "source": [
    "def get_data_by_url(url):\n",
    "    req = urllib.request.urlopen(url)\n",
    "    return req.read().decode()"
   ]
  },
  {
   "cell_type": "code",
   "execution_count": 4,
   "metadata": {},
   "outputs": [],
   "source": [
    "goaldata_jt_url = \"https://data.7m.com.cn/goaldata/jt/4074/4074677.js\"\n",
    "goaldata_js_url = \"https://data.7m.com.cn/goaldata/js/4074/4074677.js\"\n",
    "goaltime_url = \"https://data.7m.com.cn/goaldata/goaltime_stat/4074677.js\"\n",
    "lineupdata_url = \"https://wlive-js.7m.com.cn/lineupdata/gb/4074677.js\"\n",
    "gameinfo_url = \"https://analyse.7m.com.cn/4074677/data/gameinfo_gb.js\""
   ]
  },
  {
   "cell_type": "code",
   "execution_count": null,
   "metadata": {},
   "outputs": [],
   "source": [
    "def get_goaldata_jt(url):\n",
    "    res = {}\n",
    "    \n",
    "    goaldata_jt = get_data_by_url(url)\n",
    "    data = goaldata_jt.replace(\"\\ufeff\",\"\\r\\n\").split(\"\\r\\nvar \")\n",
    "    \n",
    "    for datum in data:\n",
    "        if datum:\n",
    "            kv = datum.split(\" = \")\n",
    "            res[kv[0]] = kv[1]\n",
    "    \n",
    "    return res"
   ]
  },
  {
   "cell_type": "code",
   "execution_count": 5,
   "metadata": {},
   "outputs": [],
   "source": [
    "goaldata_jt = get_data_by_url(goaldata_jt_url)"
   ]
  },
  {
   "cell_type": "code",
   "execution_count": 33,
   "metadata": {
    "scrolled": true
   },
   "outputs": [],
   "source": [
    "data = goaldata_jt.replace(\"\\ufeff\",\"\\r\\n\").split(\"\\r\\nvar \")"
   ]
  },
  {
   "cell_type": "code",
   "execution_count": 34,
   "metadata": {},
   "outputs": [],
   "source": [
    "res = {}\n",
    "for datum in data:\n",
    "    if datum:\n",
    "        kv = datum.split(\" = \")\n",
    "        res[kv[0]] = kv[1]"
   ]
  },
  {
   "cell_type": "code",
   "execution_count": 35,
   "metadata": {
    "scrolled": true
   },
   "outputs": [
    {
     "data": {
      "text/plain": [
       "{'d_pi': '[604459,85740,82380,305534,16827,16827];',\n",
       " 'd_pn': \"['莫利纳','阿尔斯兰','罗伯托·佩雷拉','德保罗','克里斯蒂亚诺·罗纳尔多','克里斯蒂亚诺·罗纳尔多'];\",\n",
       " 'ass_d_pi': \"['305534','0','0','0','0','253909'];\",\n",
       " 'ass_d_pn': \"['德保罗','','','','','拉比奥特'];\",\n",
       " 'd_lx': '[0,3,3,3,1,0];',\n",
       " 'd_tm': \"['10','44','55','82','83','89'];\",\n",
       " 'd_sx': '[0,0,0,0,-1,-1];',\n",
       " 'd_bf': \"['1-0','','','','1-1','1-2'];\",\n",
       " 'd_mc': \"'006EF0';\",\n",
       " 'd_grade': '0;',\n",
       " 'd_mi': '34;',\n",
       " 'd_mn': \"'意大利甲级联赛';\",\n",
       " 'd_ai': '54;',\n",
       " 'd_bi': '2;',\n",
       " 'd_alogo': \"'1';\",\n",
       " 'd_blogo': \"'1';\",\n",
       " 'd_ta': \"'乌迪内斯';\",\n",
       " 'd_tb': \"'尤文图斯';\",\n",
       " 'd_meno': \"'<table border=0 cellpadding=0 cellspacing=0><tr><td valign=top align=right>现场天气:&nbsp;</td><td valign=top>小雨\\u300013℃ / 55°F</td></tr><tr><td valign=top align=right>球场名称:&nbsp;</td><td valign=top>费鲁利球场(Friuli)</td></tr><tr><td valign=top align=right>球场容量:&nbsp;</td><td valign=top>25,144</td></tr><tr><td valign=top align=right>当地时间:&nbsp;</td><td valign=top>05-02 18:00</td></tr><tr><td valign=top align=right>主裁判:&nbsp;</td><td valign=top>Daniele Chiffi</td></tr>';\",\n",
       " 'd_resume': \"'尤文图斯先开球<br>角球数(2)｜角球数(6)';\",\n",
       " 'd_upi': '[1843301,102075,50518,335694,253909,1971080,535578];',\n",
       " 'd_upn': \"['库卢塞夫斯基','莫拉塔','费尔南多·弗雷斯蒂耶里','萨米尔·桑托斯','拉比奥特','菲利克斯·科雷亚','奥维延'];\",\n",
       " 'd_dpi': '[335648,279152,85740,337219,659621,78320,85268];',\n",
       " 'd_dpn': \"['贝尔纳代斯基','迪巴拉','阿尔斯兰','博尼法齐','麦克肯尼','夸德拉多','纽丁克'];\",\n",
       " 'd_stm': \"['59','66','72','84','84','85','90+2'];\",\n",
       " 'd_ssx': '[-1,-1,0,0,-1,-1,0];',\n",
       " 'd_live_stat': 'new Array(45);d_live_stat[0]',\n",
       " 'd_live_stat_1st': 'new Array(45);d_live_stat_1st[3]',\n",
       " 'd_live_stat_2nd': 'new Array(45);d_live_stat_2nd[14]'}"
      ]
     },
     "execution_count": 35,
     "metadata": {},
     "output_type": "execute_result"
    }
   ],
   "source": [
    "res"
   ]
  },
  {
   "cell_type": "code",
   "execution_count": null,
   "metadata": {},
   "outputs": [],
   "source": [
    "def get_goaldata_js(url):\n",
    "    goaldata_js = get_data_by_url(url)\n",
    "    data = goaldata_js.replace(\"\\ufeff\",\"\\r\\n\").split(\"\\r\\nvar \")\n",
    "    res = {}\n",
    "    for datum in data:\n",
    "        if datum:\n",
    "            kv = datum.split(\" = \")\n",
    "            res[kv[0]] = kv[1]\n",
    "    return res"
   ]
  },
  {
   "cell_type": "code",
   "execution_count": 36,
   "metadata": {},
   "outputs": [
    {
     "data": {
      "text/plain": [
       "['',\n",
       " 'bh=4074677;',\n",
       " 'rq=1.25;',\n",
       " 'sx=1;',\n",
       " 'link=1;',\n",
       " 'cbh=4803247;',\n",
       " 'st=4;',\n",
       " 'score=\"1 - 2\";',\n",
       " 'start_time=\"2021,05,02,23,59,00\";',\n",
       " 'tstart_time=\"\";',\n",
       " 'd_mb_pk=\"1.0000\";',\n",
       " 'd_cb_pk=\"\";',\n",
       " \"d_h_rank = '11';\",\n",
       " \"d_a_rank = '5';\",\n",
       " \"banc = '1-0';\"]"
      ]
     },
     "execution_count": 36,
     "metadata": {},
     "output_type": "execute_result"
    }
   ],
   "source": [
    "goaldata_js_jt = get_data_by_url(goaldata_js_url)\n",
    "goaldata_js_jt.replace(\"\\ufeff\",\"\\r\\n\").split(\"\\r\\nvar \")"
   ]
  },
  {
   "cell_type": "code",
   "execution_count": null,
   "metadata": {},
   "outputs": [],
   "source": []
  },
  {
   "cell_type": "code",
   "execution_count": null,
   "metadata": {},
   "outputs": [],
   "source": []
  },
  {
   "cell_type": "code",
   "execution_count": null,
   "metadata": {},
   "outputs": [],
   "source": []
  },
  {
   "cell_type": "code",
   "execution_count": 18,
   "metadata": {},
   "outputs": [],
   "source": [
    "goaltime = get_data_by_url(goaltime_url)\n",
    "# goaltime.replace(\"\\ufeff\",\"\\r\\n\").split(\"\\r\\nvar \")\n",
    "# goaltime_url"
   ]
  },
  {
   "cell_type": "code",
   "execution_count": 21,
   "metadata": {},
   "outputs": [
    {
     "data": {
      "text/plain": [
       "['',\n",
       " 'h_gt_25 = 1;',\n",
       " 'h_gt_45 = 4;',\n",
       " 'h_gt_70 = 2;',\n",
       " 'h_gt_90 = 3;',\n",
       " 'h_fgt_25 = 1;',\n",
       " 'h_fgt_45 = 4;',\n",
       " 'h_fgt_70 = 1;',\n",
       " 'h_fgt_90 = 2;',\n",
       " 'h_ms = 94;',\n",
       " 'h_hl_ms = 25;',\n",
       " 'hr_ms = 5;',\n",
       " \"h_lag_replevy = '20%';\",\n",
       " 'a_gt_25 = 10;',\n",
       " 'a_gt_45 = 3;',\n",
       " 'a_gt_70 = 8;',\n",
       " 'a_gt_90 = 6;',\n",
       " 'a_fgt_25 = 9;',\n",
       " 'a_fgt_45 = 1;',\n",
       " 'a_fgt_70 = 3;',\n",
       " 'a_fgt_90 = 0;',\n",
       " 'a_ms = 110;',\n",
       " 'a_hl_ms = 20;',\n",
       " 'ar_ms = 10;',\n",
       " \"a_lag_replevy = '50%';\"]"
      ]
     },
     "execution_count": 21,
     "metadata": {},
     "output_type": "execute_result"
    }
   ],
   "source": [
    "goaltime.replace(\"\\ufeff\",\"\").split(\"var \")"
   ]
  },
  {
   "cell_type": "code",
   "execution_count": null,
   "metadata": {},
   "outputs": [],
   "source": [
    "def get_lineup_data(url):\n",
    "    res = {}\n",
    "    lineupdata = get_data_by_url(url)\n",
    "    data = lineupdata.replace(\"\\ufeff\",\";\\n\").split(\";\\nvar \")\n",
    "    \n",
    "    "
   ]
  },
  {
   "cell_type": "code",
   "execution_count": 22,
   "metadata": {
    "collapsed": true
   },
   "outputs": [
    {
     "data": {
      "text/plain": [
       "'\\ufeffvar lineup = {\"home\":[[335850,\"斯库费特\",\"Goal Keeper\",\"96\",0,\"0\",\"\",\"\"],[658519,\"罗德里戈·贝卡奥\",\"Defender\",\"50\",0,\"0\",\"\",\"\"],[337219,\"博尼法齐\",\"Defender\",\"14\",0,\"0\",\"\",\"\"],[85268,\"纽丁克\",\"Defender\",\"17\",0,\"0\",\"\",\"\"],[604459,\"莫利纳\",\"Midfielder\",\"16\",0,\"0\",\"\",\"\"],[305534,\"德保罗\",\"Midfielder\",\"10\",0,\"0\",\"\",\"\"],[366189,\"瓦拉塞\",\"Midfielder\",\"11\",0,\"0\",\"\",\"\"],[85740,\"阿尔斯兰\",\"Midfielder\",\"22\",0,\"0\",\"\",\"\"],[83847,\"延斯·拉尔森\",\"Midfielder\",\"19\",0,\"0\",\"\",\"\"],[82380,\"罗伯托·佩雷拉\",\"Midfielder\",\"37\",0,\"0\",\"\",\"\"],[39329,\"奥卡卡\",\"Striker\",\"7\",0,\"0\",\"\",\"\"],[1842461,\"加斯帕里尼\",\"Substitute player\",\"31\",1,\"0\",\"\",\"\"],[335694,\"萨米尔·桑托斯\",\"Substitute player\",\"3\",1,\"0\",\"\",\"\"],[535578,\"奥维延\",\"Substitute player\",\"5\",1,\"0\",\"\",\"\"],[533739,\"马肯戈\",\"Substitute player\",\"6\",1,\"0\",\"\",\"\"],[1463716,\"皮塔尔·梅辛\",\"Substitute player\",\"29\",1,\"0\",\"\",\"\"],[31729,\"略伦特\",\"Substitute player\",\"32\",1,\"0\",\"\",\"\"],[50518,\"费尔南多·弗雷斯蒂耶里\",\"Substitute player\",\"45\",1,\"0\",\"\",\"\"],[1997911,\"马丁·帕伦博\",\"Substitute player\",\"64\",1,\"0\",\"\",\"\"],[47369,\"德迈奥\",\"Substitute player\",\"87\",1,\"0\",\"\",\"\"],[87182,\"泽赫拉尔\",\"Substitute player\",\"90\",1,\"0\",\"\",\"\"],[2009706,\"E.皮亚纳\",\"Substitute player\",\"67\",1,\"0\",\"\",\"\"]],\"homeid\":54,\"away\":[[62409,\"斯泽斯尼\",\"Goal Keeper\",\"1\",0,\"0\",\"\",\"\"],[95264,\"达尼洛\",\"Defender\",\"13\",0,\"0\",\"\",\"\"],[629456,\"德里赫特\",\"Defender\",\"4\",0,\"0\",\"\",\"\"],[39634,\"博努奇\",\"Defender\",\"19\",0,\"0\",\"\",\"\"],[82261,\"阿莱士·桑德罗\",\"Defender\",\"12\",0,\"0\",\"\",\"\"],[78320,\"夸德拉多\",\"Midfielder\",\"16\",0,\"0\",\"\",\"\"],[393257,\"本坦库尔\",\"Midfielder\",\"30\",0,\"0\",\"\",\"\"],[659621,\"麦克肯尼\",\"Midfielder\",\"14\",0,\"0\",\"\",\"\"],[335648,\"贝尔纳代斯基\",\"Midfielder\",\"33\",0,\"0\",\"\",\"\"],[279152,\"迪巴拉\",\"Striker\",\"10\",0,\"0\",\"\",\"\"],[16827,\"克里斯蒂亚诺·罗纳尔多\",\"Striker\",\"7\",0,\"0\",\"\",\"\"],[92559,\"卡尔洛·平索利奥\",\"Substitute player\",\"31\",1,\"0\",\"\",\"\"],[840,\"布冯\",\"Substitute player\",\"77\",1,\"0\",\"\",\"\"],[16921,\"基耶利尼\",\"Substitute player\",\"3\",1,\"0\",\"\",\"\"],[462795,\"阿图尔\",\"Substitute player\",\"5\",1,\"0\",\"\",\"\"],[54920,\"拉姆塞\",\"Substitute player\",\"8\",1,\"0\",\"\",\"\"],[102075,\"莫拉塔\",\"Substitute player\",\"9\",1,\"0\",\"\",\"\"],[253909,\"拉比奥特\",\"Substitute player\",\"25\",1,\"0\",\"\",\"\"],[2003126,\"拉杜·格拉古辛\",\"Substitute player\",\"37\",1,\"0\",\"\",\"\"],[1958922,\"吉亚科莫·维里奥尼\",\"Substitute player\",\"40\",1,\"0\",\"\",\"\"],[1843301,\"库鲁塞维斯基\",\"Substitute player\",\"44\",1,\"0\",\"\",\"\"],[1971080,\"菲利克斯·科雷亚\",\"Substitute player\",\"53\",1,\"0\",\"\",\"\"]],\"awayid\":2};\\nvar HFormation=\\'3511\\';\\nvar VFormation=\\'442\\';\\nvar HTeamId=\\'54\\';\\nvar VTeamId=\\'2\\';\\n'"
      ]
     },
     "execution_count": 22,
     "metadata": {},
     "output_type": "execute_result"
    }
   ],
   "source": [
    "lineupdata = get_data_by_url(lineupdata_url)\n",
    "lineupdata"
   ]
  },
  {
   "cell_type": "code",
   "execution_count": 37,
   "metadata": {},
   "outputs": [],
   "source": [
    "lineupdata = lineupdata.replace(\"\\ufeff\",\";\\n\").split(\";\\nvar \")"
   ]
  },
  {
   "cell_type": "code",
   "execution_count": 41,
   "metadata": {
    "collapsed": true
   },
   "outputs": [
    {
     "data": {
      "text/plain": [
       "['',\n",
       " 'lineup = {\"home\":[[335850,\"斯库费特\",\"Goal Keeper\",\"96\",0,\"0\",\"\",\"\"],[658519,\"罗德里戈·贝卡奥\",\"Defender\",\"50\",0,\"0\",\"\",\"\"],[337219,\"博尼法齐\",\"Defender\",\"14\",0,\"0\",\"\",\"\"],[85268,\"纽丁克\",\"Defender\",\"17\",0,\"0\",\"\",\"\"],[604459,\"莫利纳\",\"Midfielder\",\"16\",0,\"0\",\"\",\"\"],[305534,\"德保罗\",\"Midfielder\",\"10\",0,\"0\",\"\",\"\"],[366189,\"瓦拉塞\",\"Midfielder\",\"11\",0,\"0\",\"\",\"\"],[85740,\"阿尔斯兰\",\"Midfielder\",\"22\",0,\"0\",\"\",\"\"],[83847,\"延斯·拉尔森\",\"Midfielder\",\"19\",0,\"0\",\"\",\"\"],[82380,\"罗伯托·佩雷拉\",\"Midfielder\",\"37\",0,\"0\",\"\",\"\"],[39329,\"奥卡卡\",\"Striker\",\"7\",0,\"0\",\"\",\"\"],[1842461,\"加斯帕里尼\",\"Substitute player\",\"31\",1,\"0\",\"\",\"\"],[335694,\"萨米尔·桑托斯\",\"Substitute player\",\"3\",1,\"0\",\"\",\"\"],[535578,\"奥维延\",\"Substitute player\",\"5\",1,\"0\",\"\",\"\"],[533739,\"马肯戈\",\"Substitute player\",\"6\",1,\"0\",\"\",\"\"],[1463716,\"皮塔尔·梅辛\",\"Substitute player\",\"29\",1,\"0\",\"\",\"\"],[31729,\"略伦特\",\"Substitute player\",\"32\",1,\"0\",\"\",\"\"],[50518,\"费尔南多·弗雷斯蒂耶里\",\"Substitute player\",\"45\",1,\"0\",\"\",\"\"],[1997911,\"马丁·帕伦博\",\"Substitute player\",\"64\",1,\"0\",\"\",\"\"],[47369,\"德迈奥\",\"Substitute player\",\"87\",1,\"0\",\"\",\"\"],[87182,\"泽赫拉尔\",\"Substitute player\",\"90\",1,\"0\",\"\",\"\"],[2009706,\"E.皮亚纳\",\"Substitute player\",\"67\",1,\"0\",\"\",\"\"]],\"homeid\":54,\"away\":[[62409,\"斯泽斯尼\",\"Goal Keeper\",\"1\",0,\"0\",\"\",\"\"],[95264,\"达尼洛\",\"Defender\",\"13\",0,\"0\",\"\",\"\"],[629456,\"德里赫特\",\"Defender\",\"4\",0,\"0\",\"\",\"\"],[39634,\"博努奇\",\"Defender\",\"19\",0,\"0\",\"\",\"\"],[82261,\"阿莱士·桑德罗\",\"Defender\",\"12\",0,\"0\",\"\",\"\"],[78320,\"夸德拉多\",\"Midfielder\",\"16\",0,\"0\",\"\",\"\"],[393257,\"本坦库尔\",\"Midfielder\",\"30\",0,\"0\",\"\",\"\"],[659621,\"麦克肯尼\",\"Midfielder\",\"14\",0,\"0\",\"\",\"\"],[335648,\"贝尔纳代斯基\",\"Midfielder\",\"33\",0,\"0\",\"\",\"\"],[279152,\"迪巴拉\",\"Striker\",\"10\",0,\"0\",\"\",\"\"],[16827,\"克里斯蒂亚诺·罗纳尔多\",\"Striker\",\"7\",0,\"0\",\"\",\"\"],[92559,\"卡尔洛·平索利奥\",\"Substitute player\",\"31\",1,\"0\",\"\",\"\"],[840,\"布冯\",\"Substitute player\",\"77\",1,\"0\",\"\",\"\"],[16921,\"基耶利尼\",\"Substitute player\",\"3\",1,\"0\",\"\",\"\"],[462795,\"阿图尔\",\"Substitute player\",\"5\",1,\"0\",\"\",\"\"],[54920,\"拉姆塞\",\"Substitute player\",\"8\",1,\"0\",\"\",\"\"],[102075,\"莫拉塔\",\"Substitute player\",\"9\",1,\"0\",\"\",\"\"],[253909,\"拉比奥特\",\"Substitute player\",\"25\",1,\"0\",\"\",\"\"],[2003126,\"拉杜·格拉古辛\",\"Substitute player\",\"37\",1,\"0\",\"\",\"\"],[1958922,\"吉亚科莫·维里奥尼\",\"Substitute player\",\"40\",1,\"0\",\"\",\"\"],[1843301,\"库鲁塞维斯基\",\"Substitute player\",\"44\",1,\"0\",\"\",\"\"],[1971080,\"菲利克斯·科雷亚\",\"Substitute player\",\"53\",1,\"0\",\"\",\"\"]],\"awayid\":2}',\n",
       " \"HFormation='3511'\",\n",
       " \"VFormation='442'\",\n",
       " \"HTeamId='54'\",\n",
       " \"VTeamId='2';\\n\"]"
      ]
     },
     "execution_count": 41,
     "metadata": {},
     "output_type": "execute_result"
    }
   ],
   "source": [
    "lineupdata"
   ]
  },
  {
   "cell_type": "code",
   "execution_count": 42,
   "metadata": {},
   "outputs": [],
   "source": [
    "def get_lineup_data(url):\n",
    "    \"\"\"\n",
    "    获取比赛球员新\n",
    "    :param url:\n",
    "    :return:\n",
    "    \"\"\"\n",
    "    res = {}\n",
    "    lineup_data = get_data_by_url(url)\n",
    "    lineup_data = lineup_data.replace(\"\\ufeff\", \";\\n\").split(\";\\nvar \")\n",
    "\n",
    "    for datum in lineup_data:\n",
    "        if datum:\n",
    "            kv = datum.split(\"=\")\n",
    "            if kv[0].startswith(\"HFormation\") or kv[0].startswith(\"VFormation\"):\n",
    "                res.update({kv[0]: kv[1]})\n",
    "            elif kv[0].startswith(\"lineup\"):\n",
    "                lineup = json.loads(lineup_data[1].split(\" = \")[1])\n",
    "                res.update(lineup)\n",
    "    return res"
   ]
  },
  {
   "cell_type": "code",
   "execution_count": 43,
   "metadata": {},
   "outputs": [
    {
     "data": {
      "text/plain": [
       "{'home': [[335850, '斯库费特', 'Goal Keeper', '96', 0, '0', '', ''],\n",
       "  [658519, '罗德里戈·贝卡奥', 'Defender', '50', 0, '0', '', ''],\n",
       "  [337219, '博尼法齐', 'Defender', '14', 0, '0', '', ''],\n",
       "  [85268, '纽丁克', 'Defender', '17', 0, '0', '', ''],\n",
       "  [604459, '莫利纳', 'Midfielder', '16', 0, '0', '', ''],\n",
       "  [305534, '德保罗', 'Midfielder', '10', 0, '0', '', ''],\n",
       "  [366189, '瓦拉塞', 'Midfielder', '11', 0, '0', '', ''],\n",
       "  [85740, '阿尔斯兰', 'Midfielder', '22', 0, '0', '', ''],\n",
       "  [83847, '延斯·拉尔森', 'Midfielder', '19', 0, '0', '', ''],\n",
       "  [82380, '罗伯托·佩雷拉', 'Midfielder', '37', 0, '0', '', ''],\n",
       "  [39329, '奥卡卡', 'Striker', '7', 0, '0', '', ''],\n",
       "  [1842461, '加斯帕里尼', 'Substitute player', '31', 1, '0', '', ''],\n",
       "  [335694, '萨米尔·桑托斯', 'Substitute player', '3', 1, '0', '', ''],\n",
       "  [535578, '奥维延', 'Substitute player', '5', 1, '0', '', ''],\n",
       "  [533739, '马肯戈', 'Substitute player', '6', 1, '0', '', ''],\n",
       "  [1463716, '皮塔尔·梅辛', 'Substitute player', '29', 1, '0', '', ''],\n",
       "  [31729, '略伦特', 'Substitute player', '32', 1, '0', '', ''],\n",
       "  [50518, '费尔南多·弗雷斯蒂耶里', 'Substitute player', '45', 1, '0', '', ''],\n",
       "  [1997911, '马丁·帕伦博', 'Substitute player', '64', 1, '0', '', ''],\n",
       "  [47369, '德迈奥', 'Substitute player', '87', 1, '0', '', ''],\n",
       "  [87182, '泽赫拉尔', 'Substitute player', '90', 1, '0', '', ''],\n",
       "  [2009706, 'E.皮亚纳', 'Substitute player', '67', 1, '0', '', '']],\n",
       " 'homeid': 54,\n",
       " 'away': [[62409, '斯泽斯尼', 'Goal Keeper', '1', 0, '0', '', ''],\n",
       "  [95264, '达尼洛', 'Defender', '13', 0, '0', '', ''],\n",
       "  [629456, '德里赫特', 'Defender', '4', 0, '0', '', ''],\n",
       "  [39634, '博努奇', 'Defender', '19', 0, '0', '', ''],\n",
       "  [82261, '阿莱士·桑德罗', 'Defender', '12', 0, '0', '', ''],\n",
       "  [78320, '夸德拉多', 'Midfielder', '16', 0, '0', '', ''],\n",
       "  [393257, '本坦库尔', 'Midfielder', '30', 0, '0', '', ''],\n",
       "  [659621, '麦克肯尼', 'Midfielder', '14', 0, '0', '', ''],\n",
       "  [335648, '贝尔纳代斯基', 'Midfielder', '33', 0, '0', '', ''],\n",
       "  [279152, '迪巴拉', 'Striker', '10', 0, '0', '', ''],\n",
       "  [16827, '克里斯蒂亚诺·罗纳尔多', 'Striker', '7', 0, '0', '', ''],\n",
       "  [92559, '卡尔洛·平索利奥', 'Substitute player', '31', 1, '0', '', ''],\n",
       "  [840, '布冯', 'Substitute player', '77', 1, '0', '', ''],\n",
       "  [16921, '基耶利尼', 'Substitute player', '3', 1, '0', '', ''],\n",
       "  [462795, '阿图尔', 'Substitute player', '5', 1, '0', '', ''],\n",
       "  [54920, '拉姆塞', 'Substitute player', '8', 1, '0', '', ''],\n",
       "  [102075, '莫拉塔', 'Substitute player', '9', 1, '0', '', ''],\n",
       "  [253909, '拉比奥特', 'Substitute player', '25', 1, '0', '', ''],\n",
       "  [2003126, '拉杜·格拉古辛', 'Substitute player', '37', 1, '0', '', ''],\n",
       "  [1958922, '吉亚科莫·维里奥尼', 'Substitute player', '40', 1, '0', '', ''],\n",
       "  [1843301, '库鲁塞维斯基', 'Substitute player', '44', 1, '0', '', ''],\n",
       "  [1971080, '菲利克斯·科雷亚', 'Substitute player', '53', 1, '0', '', '']],\n",
       " 'awayid': 2,\n",
       " 'HFormation': \"'3511'\",\n",
       " 'VFormation': \"'442'\"}"
      ]
     },
     "execution_count": 43,
     "metadata": {},
     "output_type": "execute_result"
    }
   ],
   "source": [
    "get_lineup_data(lineupdata_url)"
   ]
  },
  {
   "cell_type": "code",
   "execution_count": null,
   "metadata": {},
   "outputs": [],
   "source": []
  },
  {
   "cell_type": "code",
   "execution_count": 40,
   "metadata": {},
   "outputs": [
    {
     "data": {
      "text/plain": [
       "{'home': [[335850, '斯库费特', 'Goal Keeper', '96', 0, '0', '', ''],\n",
       "  [658519, '罗德里戈·贝卡奥', 'Defender', '50', 0, '0', '', ''],\n",
       "  [337219, '博尼法齐', 'Defender', '14', 0, '0', '', ''],\n",
       "  [85268, '纽丁克', 'Defender', '17', 0, '0', '', ''],\n",
       "  [604459, '莫利纳', 'Midfielder', '16', 0, '0', '', ''],\n",
       "  [305534, '德保罗', 'Midfielder', '10', 0, '0', '', ''],\n",
       "  [366189, '瓦拉塞', 'Midfielder', '11', 0, '0', '', ''],\n",
       "  [85740, '阿尔斯兰', 'Midfielder', '22', 0, '0', '', ''],\n",
       "  [83847, '延斯·拉尔森', 'Midfielder', '19', 0, '0', '', ''],\n",
       "  [82380, '罗伯托·佩雷拉', 'Midfielder', '37', 0, '0', '', ''],\n",
       "  [39329, '奥卡卡', 'Striker', '7', 0, '0', '', ''],\n",
       "  [1842461, '加斯帕里尼', 'Substitute player', '31', 1, '0', '', ''],\n",
       "  [335694, '萨米尔·桑托斯', 'Substitute player', '3', 1, '0', '', ''],\n",
       "  [535578, '奥维延', 'Substitute player', '5', 1, '0', '', ''],\n",
       "  [533739, '马肯戈', 'Substitute player', '6', 1, '0', '', ''],\n",
       "  [1463716, '皮塔尔·梅辛', 'Substitute player', '29', 1, '0', '', ''],\n",
       "  [31729, '略伦特', 'Substitute player', '32', 1, '0', '', ''],\n",
       "  [50518, '费尔南多·弗雷斯蒂耶里', 'Substitute player', '45', 1, '0', '', ''],\n",
       "  [1997911, '马丁·帕伦博', 'Substitute player', '64', 1, '0', '', ''],\n",
       "  [47369, '德迈奥', 'Substitute player', '87', 1, '0', '', ''],\n",
       "  [87182, '泽赫拉尔', 'Substitute player', '90', 1, '0', '', ''],\n",
       "  [2009706, 'E.皮亚纳', 'Substitute player', '67', 1, '0', '', '']],\n",
       " 'homeid': 54,\n",
       " 'away': [[62409, '斯泽斯尼', 'Goal Keeper', '1', 0, '0', '', ''],\n",
       "  [95264, '达尼洛', 'Defender', '13', 0, '0', '', ''],\n",
       "  [629456, '德里赫特', 'Defender', '4', 0, '0', '', ''],\n",
       "  [39634, '博努奇', 'Defender', '19', 0, '0', '', ''],\n",
       "  [82261, '阿莱士·桑德罗', 'Defender', '12', 0, '0', '', ''],\n",
       "  [78320, '夸德拉多', 'Midfielder', '16', 0, '0', '', ''],\n",
       "  [393257, '本坦库尔', 'Midfielder', '30', 0, '0', '', ''],\n",
       "  [659621, '麦克肯尼', 'Midfielder', '14', 0, '0', '', ''],\n",
       "  [335648, '贝尔纳代斯基', 'Midfielder', '33', 0, '0', '', ''],\n",
       "  [279152, '迪巴拉', 'Striker', '10', 0, '0', '', ''],\n",
       "  [16827, '克里斯蒂亚诺·罗纳尔多', 'Striker', '7', 0, '0', '', ''],\n",
       "  [92559, '卡尔洛·平索利奥', 'Substitute player', '31', 1, '0', '', ''],\n",
       "  [840, '布冯', 'Substitute player', '77', 1, '0', '', ''],\n",
       "  [16921, '基耶利尼', 'Substitute player', '3', 1, '0', '', ''],\n",
       "  [462795, '阿图尔', 'Substitute player', '5', 1, '0', '', ''],\n",
       "  [54920, '拉姆塞', 'Substitute player', '8', 1, '0', '', ''],\n",
       "  [102075, '莫拉塔', 'Substitute player', '9', 1, '0', '', ''],\n",
       "  [253909, '拉比奥特', 'Substitute player', '25', 1, '0', '', ''],\n",
       "  [2003126, '拉杜·格拉古辛', 'Substitute player', '37', 1, '0', '', ''],\n",
       "  [1958922, '吉亚科莫·维里奥尼', 'Substitute player', '40', 1, '0', '', ''],\n",
       "  [1843301, '库鲁塞维斯基', 'Substitute player', '44', 1, '0', '', ''],\n",
       "  [1971080, '菲利克斯·科雷亚', 'Substitute player', '53', 1, '0', '', '']],\n",
       " 'awayid': 2}"
      ]
     },
     "execution_count": 40,
     "metadata": {},
     "output_type": "execute_result"
    }
   ],
   "source": [
    "json.loads(lineupdata[1].split(\" = \")[1])"
   ]
  },
  {
   "cell_type": "code",
   "execution_count": null,
   "metadata": {},
   "outputs": [],
   "source": []
  },
  {
   "cell_type": "code",
   "execution_count": null,
   "metadata": {},
   "outputs": [],
   "source": []
  },
  {
   "cell_type": "code",
   "execution_count": 26,
   "metadata": {},
   "outputs": [],
   "source": [
    "gameinfo = get_data_by_url(gameinfo_url)\n",
    "json.loads(gameinfo.split(\"= \")[1])"
   ]
  },
  {
   "cell_type": "code",
   "execution_count": 31,
   "metadata": {},
   "outputs": [
    {
     "data": {
      "text/plain": [
       "{'time': '1619971140000',\n",
       " 'taid': '54',\n",
       " 'taname': '乌迪内斯',\n",
       " 'talogo': '1',\n",
       " 'neutral': '0',\n",
       " 'tarank': '11',\n",
       " 'tadata': '20,6,6,8',\n",
       " 'tbid': '2',\n",
       " 'tbrank': '5',\n",
       " 'tbname': '尤文图斯',\n",
       " 'tblogo': '1',\n",
       " 'tbdata': '20,12,4,4',\n",
       " 'mid': '34',\n",
       " 'mcolor': '006EF0',\n",
       " 'missue': '1',\n",
       " 'mname': '意大利甲级联赛',\n",
       " 'handicap': '1.25',\n",
       " 'oddstype': '1',\n",
       " 'oddsid': '',\n",
       " 'm_early': '1.0000',\n",
       " 's2_early': '',\n",
       " 'channel': '澳门有线电视35台<br/>香港NOW638台<br/>香港有线654台<br/>香港有线614台',\n",
       " 'weather': '5',\n",
       " 'temperature': '13℃～14℃/55°F～57°F',\n",
       " 'updatedtime': '2021-05-02 09:27:56'}"
      ]
     },
     "execution_count": 31,
     "metadata": {},
     "output_type": "execute_result"
    }
   ],
   "source": []
  },
  {
   "cell_type": "code",
   "execution_count": null,
   "metadata": {},
   "outputs": [],
   "source": []
  },
  {
   "cell_type": "code",
   "execution_count": 50,
   "metadata": {},
   "outputs": [],
   "source": [
    "import json\n",
    "import urllib\n",
    "import urllib.request\n",
    "\n",
    "\n",
    "def get_data_by_url(url):\n",
    "    req = urllib.request.urlopen(url)\n",
    "    return req.read().decode()\n",
    "\n",
    "\n",
    "def get_goaldata_jt(url):\n",
    "    \"\"\"\n",
    "    获取基本信息，如进球人员、进球数量\n",
    "    :param url:\n",
    "    :return:\n",
    "    \"\"\"\n",
    "    res = {}\n",
    "\n",
    "    goaldata_jt = get_data_by_url(url)\n",
    "    data = goaldata_jt.replace(\"\\ufeff\", \"\\r\\n\").split(\"\\r\\nvar \")\n",
    "\n",
    "    for datum in data:\n",
    "        if datum:\n",
    "            kv = datum.split(\" = \")\n",
    "            res[kv[0]] = kv[1]\n",
    "\n",
    "    return res\n",
    "\n",
    "\n",
    "def get_goaldata_js(url):\n",
    "    \"\"\"\n",
    "    获取比赛得分、半场得分\n",
    "    :param url:\n",
    "    :return:\n",
    "    \"\"\"\n",
    "    res = {}\n",
    "    goaldata_js = get_data_by_url(url)\n",
    "    data = goaldata_js.replace(\"\\ufeff\", \"\\r\\n\").split(\"\\r\\nvar \")\n",
    "\n",
    "    for datum in data:\n",
    "        if datum:\n",
    "            kv = datum.split(\"=\")\n",
    "            res[kv[0]] = kv[1]\n",
    "    return res\n",
    "\n",
    "\n",
    "def get_goaltime(url):\n",
    "    \"\"\"\n",
    "    获取当赛季进球时间统计\n",
    "    :param url:\n",
    "    :return:\n",
    "    \"\"\"\n",
    "    res = {}\n",
    "    goaltime = get_data_by_url(url)\n",
    "    data = goaltime.replace(\"\\ufeff\", \"\").split(\"var \")\n",
    "\n",
    "    for datum in data:\n",
    "        if datum:\n",
    "            kv = datum.split(\"=\")\n",
    "            res[kv[0]] = kv[1]\n",
    "    return res\n",
    "\n",
    "\n",
    "def get_lineup_data(url):\n",
    "    \"\"\"\n",
    "    获取比赛球员新\n",
    "    :param url:\n",
    "    :return:\n",
    "    \"\"\"\n",
    "    res = {}\n",
    "    lineup_data = get_data_by_url(url)\n",
    "    lineup_data = lineup_data.replace(\"\\ufeff\", \";\\n\").split(\";\\nvar \")\n",
    "\n",
    "    for datum in lineup_data:\n",
    "        if datum:\n",
    "            kv = datum.split(\"=\")\n",
    "            if kv[0].startswith(\"HFormation\") or kv[0].startswith(\"VFormation\"):\n",
    "                res.update({kv[0]: kv[1]})\n",
    "            elif kv[0].startswith(\"lineup\"):\n",
    "                lineup = json.loads(lineup_data[1].split(\"=\")[1])\n",
    "                res.update(lineup)\n",
    "    return res\n",
    "\n",
    "\n",
    "def get_game_info(url):\n",
    "    \"\"\"\n",
    "    获取比赛基础信息\n",
    "    :param url:\n",
    "    :return:\n",
    "    \"\"\"\n",
    "    game_info = get_data_by_url(url)\n",
    "    res = json.loads(game_info.split(\"= \")[1])\n",
    "    return res"
   ]
  },
  {
   "cell_type": "code",
   "execution_count": 51,
   "metadata": {},
   "outputs": [],
   "source": [
    "urls = {\n",
    "    \"goaldata_jt\": \"https://data.7m.com.cn/goaldata/jt/4074/4074677.js\",\n",
    "    \"goaldata_js\": \"https://data.7m.com.cn/goaldata/js/4074/4074677.js\",\n",
    "    \"goaltime\": \"https://data.7m.com.cn/goaldata/goaltime_stat/4074677.js\",\n",
    "    \"lineupdata\": \"https://wlive-js.7m.com.cn/lineupdata/gb/4074677.js\",\n",
    "    \"gameinfo\": \"https://analyse.7m.com.cn/4074677/data/gameinfo_gb.js\"\n",
    "}\n",
    "\n",
    "functions = {\n",
    "    \"goaldata_jt\": get_goaldata_jt,\n",
    "    \"goaldata_js\": get_goaldata_js,\n",
    "    \"goaltime\": get_goaltime,\n",
    "    \"lineupdata\": get_lineup_data,\n",
    "    \"gameinfo\": get_game_info\n",
    "}"
   ]
  },
  {
   "cell_type": "code",
   "execution_count": 53,
   "metadata": {},
   "outputs": [],
   "source": [
    "results = {}\n",
    "for k, v in urls.items():\n",
    "    result = functions[k](v)\n",
    "    results.update(result)"
   ]
  },
  {
   "cell_type": "code",
   "execution_count": 61,
   "metadata": {},
   "outputs": [
    {
     "data": {
      "text/plain": [
       "98"
      ]
     },
     "execution_count": 61,
     "metadata": {},
     "output_type": "execute_result"
    }
   ],
   "source": [
    "len(list(results.keys()))"
   ]
  },
  {
   "cell_type": "code",
   "execution_count": 58,
   "metadata": {
    "collapsed": true
   },
   "outputs": [
    {
     "name": "stdout",
     "output_type": "stream",
     "text": [
      "d_pi\n",
      "d_pn\n",
      "ass_d_pi\n",
      "ass_d_pn\n",
      "d_lx\n",
      "d_tm\n",
      "d_sx\n",
      "d_bf\n",
      "d_mc\n",
      "d_grade\n",
      "d_mi\n",
      "d_mn\n",
      "d_ai\n",
      "d_bi\n",
      "d_alogo\n",
      "d_blogo\n",
      "d_ta\n",
      "d_tb\n",
      "d_meno\n",
      "d_resume\n",
      "d_upi\n",
      "d_upn\n",
      "d_dpi\n",
      "d_dpn\n",
      "d_stm\n",
      "d_ssx\n",
      "d_live_stat\n",
      "d_live_stat_1st\n",
      "d_live_stat_2nd\n",
      "bh\n",
      "rq\n",
      "sx\n",
      "link\n",
      "cbh\n",
      "st\n",
      "score\n",
      "start_time\n",
      "tstart_time\n",
      "d_mb_pk\n",
      "d_cb_pk\n",
      "d_h_rank \n",
      "d_a_rank \n",
      "banc \n",
      "h_gt_25 \n",
      "h_gt_45 \n",
      "h_gt_70 \n",
      "h_gt_90 \n",
      "h_fgt_25 \n",
      "h_fgt_45 \n",
      "h_fgt_70 \n",
      "h_fgt_90 \n",
      "h_ms \n",
      "h_hl_ms \n",
      "hr_ms \n",
      "h_lag_replevy \n",
      "a_gt_25 \n",
      "a_gt_45 \n",
      "a_gt_70 \n",
      "a_gt_90 \n",
      "a_fgt_25 \n",
      "a_fgt_45 \n",
      "a_fgt_70 \n",
      "a_fgt_90 \n",
      "a_ms \n",
      "a_hl_ms \n",
      "ar_ms \n",
      "a_lag_replevy \n",
      "home\n",
      "homeid\n",
      "away\n",
      "awayid\n",
      "HFormation\n",
      "VFormation\n",
      "time\n",
      "taid\n",
      "taname\n",
      "talogo\n",
      "neutral\n",
      "tarank\n",
      "tadata\n",
      "tbid\n",
      "tbrank\n",
      "tbname\n",
      "tblogo\n",
      "tbdata\n",
      "mid\n",
      "mcolor\n",
      "missue\n",
      "mname\n",
      "handicap\n",
      "oddstype\n",
      "oddsid\n",
      "m_early\n",
      "s2_early\n",
      "channel\n",
      "weather\n",
      "temperature\n",
      "updatedtime\n"
     ]
    }
   ],
   "source": [
    "for res in results:\n",
    "    print(res)"
   ]
  },
  {
   "cell_type": "code",
   "execution_count": null,
   "metadata": {},
   "outputs": [],
   "source": []
  },
  {
   "cell_type": "code",
   "execution_count": 54,
   "metadata": {},
   "outputs": [],
   "source": [
    "import pandas as pd"
   ]
  },
  {
   "cell_type": "code",
   "execution_count": 63,
   "metadata": {},
   "outputs": [],
   "source": [
    "pd.DataFrame.from_dict(results).to_csv('123.csv',encoding=\"utf_8_sig\")"
   ]
  },
  {
   "cell_type": "code",
   "execution_count": null,
   "metadata": {},
   "outputs": [],
   "source": []
  },
  {
   "cell_type": "code",
   "execution_count": null,
   "metadata": {},
   "outputs": [],
   "source": []
  },
  {
   "cell_type": "code",
   "execution_count": null,
   "metadata": {},
   "outputs": [],
   "source": []
  }
 ],
 "metadata": {
  "kernelspec": {
   "display_name": "Python 3",
   "language": "python",
   "name": "python3"
  },
  "language_info": {
   "codemirror_mode": {
    "name": "ipython",
    "version": 3
   },
   "file_extension": ".py",
   "mimetype": "text/x-python",
   "name": "python",
   "nbconvert_exporter": "python",
   "pygments_lexer": "ipython3",
   "version": "3.7.6"
  }
 },
 "nbformat": 4,
 "nbformat_minor": 4
}
