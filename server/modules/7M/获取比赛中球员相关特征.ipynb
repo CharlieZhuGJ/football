{
 "cells": [
  {
   "cell_type": "markdown",
   "metadata": {},
   "source": [
    "以五月2号尤文图斯与乌迪内斯的比赛，只获取球员信息，不做外延，一步步来。"
   ]
  },
  {
   "cell_type": "code",
   "execution_count": 40,
   "metadata": {},
   "outputs": [],
   "source": [
    "import urllib\n",
    "import json\n",
    "import urllib.request\n",
    "import pandas as pd"
   ]
  },
  {
   "cell_type": "code",
   "execution_count": 45,
   "metadata": {},
   "outputs": [],
   "source": [
    "def get_player_info(pid):\n",
    "    \"\"\"\n",
    "    球员个人信息\n",
    "    \"\"\"\n",
    "    info = \"http://player.7m.com.cn/v2/encrypt/fun/getinfo.php?id={}&lang=gb\".format(pid)\n",
    "    info_data = urllib.request.urlopen(info)\n",
    "    res_info = info_data.read().decode()\n",
    "    \n",
    "    info_list = res_info.split(\" =\")\n",
    "    player_info = json.loads(info_list[1][:-1])\n",
    "    \n",
    "    return player_info"
   ]
  },
  {
   "cell_type": "code",
   "execution_count": 46,
   "metadata": {},
   "outputs": [],
   "source": [
    "def get_player_stats(pid):\n",
    "    \"\"\"\n",
    "    获取球员最近比赛信息\n",
    "    \"\"\"\n",
    "    stats = \"http://player.7m.com.cn/v2/encrypt/fun/getstats.php?id={}&lang=gb\".format(pid)\n",
    "\n",
    "    stats_data = urllib.request.urlopen(stats)\n",
    "    res_stats = stats_data.read().decode()\n",
    "\n",
    "    stats_list = res_stats.split(\" =\")\n",
    "    print(stats_list[0])\n",
    "    player_stats = json.loads(stats_list[1][:-1])\n",
    "    \n",
    "    return player_stats"
   ]
  },
  {
   "cell_type": "code",
   "execution_count": 47,
   "metadata": {},
   "outputs": [],
   "source": [
    "def get_player_intime(pid):\n",
    "    \"\"\"\n",
    "    获取球员最近比赛时长\n",
    "    \"\"\"\n",
    "    intime = \"http://player.7m.com.cn/{}/data/intime.js\".format(pid)\n",
    "    \n",
    "    intime_data = urllib.request.urlopen(intime)\n",
    "    res_intime = intime_data.read().decode()\n",
    "\n",
    "    intime_list = res_intime.split(\" =\")\n",
    "    print(intime_list[0])\n",
    "    \n",
    "    intime = json.loads(intime_list[1].replace(\" \\ufeff\", \"\"))\n",
    "    \n",
    "    return intime"
   ]
  },
  {
   "cell_type": "code",
   "execution_count": null,
   "metadata": {},
   "outputs": [],
   "source": [
    "# 进球时间球员信息\n",
    "https://data.7m.com.cn/goaldata/jt/4074/4074677.js\n",
    "# 半场信息与赛前排名信息 \n",
    "https://data.7m.com.cn/goaldata/js/4074/4074677.js\n",
    "# 进球时间统计\n",
    "https://data.7m.com.cn/goaldata/goaltime_stat/4074677.js\n",
    "# 点球信息\n",
    "https://js.wlive.7m.com.cn/livedata/penalty/4074677.js\n",
    "# 上场球员信息\n",
    "https://wlive-js.7m.com.cn/lineupdata/gb/4074677.js    \n",
    "# 本场比赛信息\n",
    "https://analyse.7m.com.cn/4074677/data/gameinfo_gb.js\n",
    "# 根据id获取推荐比赛\n",
    "https://txt-api.7m.com.cn/tips/static/data/hotRecommendMatch?id=4074677\n",
    "#  检查是否存在比赛\n",
    "https://txt-api.7m.com.cn/betfair-index/interface/matchIsExists?jsoncallback=jQuery11130059560802444734495_1620134483126&id=4074677&_=1620134483127"
   ]
  },
  {
   "cell_type": "code",
   "execution_count": 2,
   "metadata": {},
   "outputs": [],
   "source": [
    "mid = 4074677\n",
    "lineup_url = \"https://wlive-js.7m.com.cn/lineupdata/gb/4074677.js\""
   ]
  },
  {
   "cell_type": "code",
   "execution_count": 3,
   "metadata": {},
   "outputs": [],
   "source": [
    "def get_data_by_url(url):\n",
    "    req = urllib.request.urlopen(url)\n",
    "    # print(req.read().decode())\n",
    "    return req.read().decode()"
   ]
  },
  {
   "cell_type": "code",
   "execution_count": 4,
   "metadata": {},
   "outputs": [],
   "source": [
    "lineup = get_data_by_url(lineup_url)"
   ]
  },
  {
   "cell_type": "code",
   "execution_count": 21,
   "metadata": {},
   "outputs": [],
   "source": [
    "second = lineup.split(\" = \")[1]\n",
    "second_0 = second.split(\"}\")[0]+\"}\"\n",
    "second_1 = second.split(\"}\")[1]"
   ]
  },
  {
   "cell_type": "code",
   "execution_count": 30,
   "metadata": {},
   "outputs": [],
   "source": [
    "basic = json.loads(second_0)"
   ]
  },
  {
   "cell_type": "code",
   "execution_count": 32,
   "metadata": {},
   "outputs": [],
   "source": [
    "second_1_splits = second_1.strip()[:-1].split(\";\\nvar \")"
   ]
  },
  {
   "cell_type": "code",
   "execution_count": 34,
   "metadata": {},
   "outputs": [],
   "source": [
    "for kv in second_1_splits:\n",
    "    if \"=\" in kv:\n",
    "        key, val = kv.split(\"=\")\n",
    "        basic[key] = val"
   ]
  },
  {
   "cell_type": "code",
   "execution_count": 35,
   "metadata": {
    "collapsed": true
   },
   "outputs": [
    {
     "data": {
      "text/plain": [
       "{'home': [[335850, '斯库费特', 'Goal Keeper', '96', 0, '0', '', ''],\n",
       "  [658519, '罗德里戈·贝卡奥', 'Defender', '50', 0, '0', '', ''],\n",
       "  [337219, '博尼法齐', 'Defender', '14', 0, '0', '', ''],\n",
       "  [85268, '纽丁克', 'Defender', '17', 0, '0', '', ''],\n",
       "  [604459, '莫利纳', 'Midfielder', '16', 0, '0', '', ''],\n",
       "  [305534, '德保罗', 'Midfielder', '10', 0, '0', '', ''],\n",
       "  [366189, '瓦拉塞', 'Midfielder', '11', 0, '0', '', ''],\n",
       "  [85740, '阿尔斯兰', 'Midfielder', '22', 0, '0', '', ''],\n",
       "  [83847, '延斯·拉尔森', 'Midfielder', '19', 0, '0', '', ''],\n",
       "  [82380, '罗伯托·佩雷拉', 'Midfielder', '37', 0, '0', '', ''],\n",
       "  [39329, '奥卡卡', 'Striker', '7', 0, '0', '', ''],\n",
       "  [1842461, '加斯帕里尼', 'Substitute player', '31', 1, '0', '', ''],\n",
       "  [335694, '萨米尔·桑托斯', 'Substitute player', '3', 1, '0', '', ''],\n",
       "  [535578, '奥维延', 'Substitute player', '5', 1, '0', '', ''],\n",
       "  [533739, '马肯戈', 'Substitute player', '6', 1, '0', '', ''],\n",
       "  [1463716, '皮塔尔·梅辛', 'Substitute player', '29', 1, '0', '', ''],\n",
       "  [31729, '略伦特', 'Substitute player', '32', 1, '0', '', ''],\n",
       "  [50518, '费尔南多·弗雷斯蒂耶里', 'Substitute player', '45', 1, '0', '', ''],\n",
       "  [1997911, '马丁·帕伦博', 'Substitute player', '64', 1, '0', '', ''],\n",
       "  [47369, '德迈奥', 'Substitute player', '87', 1, '0', '', ''],\n",
       "  [87182, '泽赫拉尔', 'Substitute player', '90', 1, '0', '', ''],\n",
       "  [2009706, 'E.皮亚纳', 'Substitute player', '67', 1, '0', '', '']],\n",
       " 'homeid': 54,\n",
       " 'away': [[62409, '斯泽斯尼', 'Goal Keeper', '1', 0, '0', '', ''],\n",
       "  [95264, '达尼洛', 'Defender', '13', 0, '0', '', ''],\n",
       "  [629456, '德里赫特', 'Defender', '4', 0, '0', '', ''],\n",
       "  [39634, '博努奇', 'Defender', '19', 0, '0', '', ''],\n",
       "  [82261, '阿莱士·桑德罗', 'Defender', '12', 0, '0', '', ''],\n",
       "  [78320, '夸德拉多', 'Midfielder', '16', 0, '0', '', ''],\n",
       "  [393257, '本坦库尔', 'Midfielder', '30', 0, '0', '', ''],\n",
       "  [659621, '麦克肯尼', 'Midfielder', '14', 0, '0', '', ''],\n",
       "  [335648, '贝尔纳代斯基', 'Midfielder', '33', 0, '0', '', ''],\n",
       "  [279152, '迪巴拉', 'Striker', '10', 0, '0', '', ''],\n",
       "  [16827, '克里斯蒂亚诺·罗纳尔多', 'Striker', '7', 0, '0', '', ''],\n",
       "  [92559, '卡尔洛·平索利奥', 'Substitute player', '31', 1, '0', '', ''],\n",
       "  [840, '布冯', 'Substitute player', '77', 1, '0', '', ''],\n",
       "  [16921, '基耶利尼', 'Substitute player', '3', 1, '0', '', ''],\n",
       "  [462795, '阿图尔', 'Substitute player', '5', 1, '0', '', ''],\n",
       "  [54920, '拉姆塞', 'Substitute player', '8', 1, '0', '', ''],\n",
       "  [102075, '莫拉塔', 'Substitute player', '9', 1, '0', '', ''],\n",
       "  [253909, '拉比奥特', 'Substitute player', '25', 1, '0', '', ''],\n",
       "  [2003126, '拉杜·格拉古辛', 'Substitute player', '37', 1, '0', '', ''],\n",
       "  [1958922, '吉亚科莫·维里奥尼', 'Substitute player', '40', 1, '0', '', ''],\n",
       "  [1843301, '库鲁塞维斯基', 'Substitute player', '44', 1, '0', '', ''],\n",
       "  [1971080, '菲利克斯·科雷亚', 'Substitute player', '53', 1, '0', '', '']],\n",
       " 'awayid': 2,\n",
       " 'HFormation': \"'3511'\",\n",
       " 'VFormation': \"'442'\",\n",
       " 'HTeamId': \"'54'\",\n",
       " 'VTeamId': \"'2'\"}"
      ]
     },
     "execution_count": 35,
     "metadata": {},
     "output_type": "execute_result"
    }
   ],
   "source": [
    "basic"
   ]
  },
  {
   "cell_type": "code",
   "execution_count": 37,
   "metadata": {},
   "outputs": [],
   "source": [
    "away = basic['away']"
   ]
  },
  {
   "cell_type": "code",
   "execution_count": 39,
   "metadata": {},
   "outputs": [
    {
     "name": "stdout",
     "output_type": "stream",
     "text": [
      "[62409, '斯泽斯尼', 'Goal Keeper', '1', 0, '0', '', '']\n",
      "[95264, '达尼洛', 'Defender', '13', 0, '0', '', '']\n",
      "[629456, '德里赫特', 'Defender', '4', 0, '0', '', '']\n",
      "[39634, '博努奇', 'Defender', '19', 0, '0', '', '']\n",
      "[82261, '阿莱士·桑德罗', 'Defender', '12', 0, '0', '', '']\n",
      "[78320, '夸德拉多', 'Midfielder', '16', 0, '0', '', '']\n",
      "[393257, '本坦库尔', 'Midfielder', '30', 0, '0', '', '']\n",
      "[659621, '麦克肯尼', 'Midfielder', '14', 0, '0', '', '']\n",
      "[335648, '贝尔纳代斯基', 'Midfielder', '33', 0, '0', '', '']\n",
      "[279152, '迪巴拉', 'Striker', '10', 0, '0', '', '']\n",
      "[16827, '克里斯蒂亚诺·罗纳尔多', 'Striker', '7', 0, '0', '', '']\n",
      "[92559, '卡尔洛·平索利奥', 'Substitute player', '31', 1, '0', '', '']\n",
      "[840, '布冯', 'Substitute player', '77', 1, '0', '', '']\n",
      "[16921, '基耶利尼', 'Substitute player', '3', 1, '0', '', '']\n",
      "[462795, '阿图尔', 'Substitute player', '5', 1, '0', '', '']\n",
      "[54920, '拉姆塞', 'Substitute player', '8', 1, '0', '', '']\n",
      "[102075, '莫拉塔', 'Substitute player', '9', 1, '0', '', '']\n",
      "[253909, '拉比奥特', 'Substitute player', '25', 1, '0', '', '']\n",
      "[2003126, '拉杜·格拉古辛', 'Substitute player', '37', 1, '0', '', '']\n",
      "[1958922, '吉亚科莫·维里奥尼', 'Substitute player', '40', 1, '0', '', '']\n",
      "[1843301, '库鲁塞维斯基', 'Substitute player', '44', 1, '0', '', '']\n",
      "[1971080, '菲利克斯·科雷亚', 'Substitute player', '53', 1, '0', '', '']\n"
     ]
    }
   ],
   "source": [
    "for player in away:\n",
    "    print(player)"
   ]
  },
  {
   "cell_type": "code",
   "execution_count": 44,
   "metadata": {},
   "outputs": [],
   "source": [
    "cols = ['pid', 'name', 'type', 'qyhm', 'sfsf','unkown1','unkown2','unkown3']\n",
    "#       球员编号，姓名，类型，球衣编号，是否首发\n",
    "data = pd.DataFrame(away,columns=cols)"
   ]
  },
  {
   "cell_type": "code",
   "execution_count": 49,
   "metadata": {},
   "outputs": [],
   "source": [
    "pid_keys = player_info.keys()"
   ]
  },
  {
   "cell_type": "code",
   "execution_count": null,
   "metadata": {},
   "outputs": [],
   "source": [
    "var PLAYER_DATA_TITLE = [\"国　籍：\", \n",
    "                         \"生　日：\", \n",
    "                         \"今天生物周期：\",\n",
    "                         \"身　高：\", \n",
    "                         \"体　重：\", \n",
    "                         \"效力球队：\", \n",
    "                         \"场上位置：\", \n",
    "                         \"加盟日期：\", \n",
    "                         \"转会费：\",\n",
    "                         \"前度效力球队：\", \n",
    "                         \"曾经效力球队：\", \n",
    "                         \"俱乐部球衣：\",\n",
    "                         \"球员身价：\"];\n",
    "v"
   ]
  },
  {
   "cell_type": "code",
   "execution_count": null,
   "metadata": {},
   "outputs": [],
   "source": [
    "player_info"
   ]
  },
  {
   "cell_type": "code",
   "execution_count": 68,
   "metadata": {},
   "outputs": [],
   "source": [
    "PLAYER_ATTR_FACTORY = {\n",
    "    'jmrq': 'iSvnQ357C3NEKYH7VCcCikgQXCwa+W0IicOP2zY7nmQ',  #加盟日期\n",
    "    'xlqd': 'iSvnQ357C3NEKYKl6l2QJHiig1vGlKvChNmVO+GWLw', #效力球队\n",
    "    'xlsc': 'iSvnQ357C3NEKdX3vwrCKnzxg1+XkK+R0oiVO+Gbrw', #效力时长\n",
    "    'zhf': 'iSvnQ357C3NEKdL+uleZJ3mggV7FwqyX19qCJfWzdL736teyqBdm0A', #转会费\n",
    "    'qyjs': 'iSvnQ357C3NEKdTvQ2SKnigggSUka+T39iGJfu7brT3x9a1', #球员简介\n",
    "    'unkonw1': 'iSvnQ357C3NEKdKk7FEJCjxhljEwPqShIKGOWkYqrN6MO+ri1e0bgcIOSZYFQ',#未知\n",
    "    'qyhm': 'iSvnQ357C3NEKYSk6wrDIHj02QvHw6+U0ouVO+GdLD76sW5og',#球衣号码\n",
    "    'sjjlb': 'iSvnQ357C3NEKYTuFjGJ3+l1lzDliU3tqQOOawYqrx9MS1ki9j',#上家俱乐部\n",
    "    'sj': 'iSvnQ357C3NEKdel7FaQdC+k1g2Ulv2W1YKGOWkYqrN6MO+ri0', #身价\n",
    "    'xlqds': 'iSvnQ357C3NEKdClulfFJSyi0QTEk6fD1ImZOfe4ZLTn+u6wrw', #效力过的俱乐部\n",
    "    'grry': 'iSvnQ357C3NEKdH1vFuXdC6i0AnFlK6WgYmeOPqycqrhx9a1', #个人荣誉\n",
    "    'ywm': 'iSvnQ357C3NEKYbzuwBInr001iSxfCho2YNvm4', #英文名\n",
    "    'csrq': 'iSvnQ357C3NEKYP+vlvBc32m2AqQxqjChdmUPuapb7zz4Q', #出生日期\n",
    "    'tz': 'iSvnQ357C3NEKYSlvl2Qc3qi0luQxa6R04iBMv26b6w', #体重\n",
    "    'gj': 'iSvnQ357C3NEKYPzvFBdi+g0F7JlzA1o+YNuC0aLbz9NijtBdm0A', #国籍\n",
    "    'sg': 'iSvnQ357C3NEKYGkuV2Xd3uhhQ3ExKuS1IqeMv26b6w' #身高\n",
    "}"
   ]
  },
  {
   "cell_type": "code",
   "execution_count": 69,
   "metadata": {},
   "outputs": [],
   "source": [
    "def get_fs(player_info):\n",
    "    features = ['jmrq','xlqd','xlsc', 'sj','xlqds', 'csrq', 'tz', 'gj', 'sg']\n",
    "    fs = []\n",
    "    for f in features:\n",
    "        fea = player_info[PLAYER_ATTR_FACTORY[f]]\n",
    "        fs.append(fea)\n",
    "#         print(player_info[PLAYER_ATTR_FACTORY[f]])\n",
    "    return fs"
   ]
  },
  {
   "cell_type": "code",
   "execution_count": 71,
   "metadata": {},
   "outputs": [],
   "source": [
    "player_info = get_player_info(39634)"
   ]
  },
  {
   "cell_type": "code",
   "execution_count": 72,
   "metadata": {
    "scrolled": true
   },
   "outputs": [
    {
     "data": {
      "text/plain": [
       "{'QHyX9p++kuMV18zFK9h73KFPE7VYdpu7CNVsdcM6JyxT0PdoDlbGw': '3500万欧元',\n",
       " 'QHyX9p++kuMV18jDLt8viPYdR+sMJs69XdR7a9c2Cy14': '尤文图斯',\n",
       " 'QHyX9p++kuMV15mSJ9N9iPRKEe4OJZzrU9x0aMU7': '1',\n",
       " 'QHyX9p++kuMV152VfI54ivdPQLxacsq5U9l2ZtY9OyR7UUzMvDlbGw': '意大利',\n",
       " 'QHyX9p++kuMV187Cetp91KFMRboMJsu+Co5oa8MtMThFTVfRpgNjGhEaai+INpc': '1',\n",
       " 'QHyX9p++kuMV156RJtt1fhLQLVYLMi8Wd5vYsszPD4': '82kg',\n",
       " 'QHyX9p++kuMV18vCeIl73BLErsMJ5zoCop+aNA5MTh5UVDamgFe': 'AC米兰',\n",
       " 'QHyX9p++kuMV156Re91+3aZOQrQHJcvWNV3acExNyZvX3rfpw': 'AC米兰,尤文图斯,巴里,热那亚,国际米兰,比萨[租借],特雷维索[租借],国际米兰(U19),维特波',\n",
       " 'QHyX9p++kuMV152Wf9t62vBJRelfds27XYh7a9c2PS4': '2',\n",
       " 'QHyX9p++kuMV18vDLY583dHRbQKLJroDd12Zs8x': 'Leonardo Bonucci',\n",
       " 'QHyX9p++kuMV15nDJ956jqYcR7laIci8UthoaNE9ICN1Uw': '2',\n",
       " 'QHyX9p++kuMV18DMJt8t3qVIELsPccu+WNx7a9c2JyJzT1HWqg': '19',\n",
       " 'QHyX9p++kuMV183BLY4siqZLFe9cIcHsD9hxYw': '39634',\n",
       " 'QHyX9p++kuMV15nAf9Mv2qJJFL8ILMy5Wo9oa8MtMThFTVfRpgM': '18000000.00',\n",
       " 'QHyX9p++kuMV18vNKop536VGQ7pYLZ+5Xd1waMw7IThpYkLa': '<P><STRONG>俱乐部<BR>国际米兰<BR></STRONG>意甲联赛冠军：2005/06<BR><BR><STRONG>尤文图斯<BR></STRONG>意甲联赛冠军：2011/12、2012/13、2013/14、2014/15、2015/16、2016/17、2018/19、2019/20<BR>意大利超级杯冠军：2012、2013、2015、2018、2020<BR>意大利杯冠军：2014/15、2015/16、2016/17<BR>欧冠杯亚军：2014/15、2016/17<BR><STRONG><BR>国家队<BR>意大利</STRONG><BR>欧洲杯亚军：2012<BR>FIFA联合会杯季军：2013<BR><BR><STRONG>个人<BR></STRONG>欧冠联赛赛季最佳阵容：2013/14 <BR>意甲联赛年度最佳阵容：2014/15、2015/16<BR>欧洲足联年度最佳阵容：2016<BR>意甲奥斯卡奖年度最佳球员：2016<BR>欧冠杯赛季最佳队伍：2016/17<BR>年度ESM团队：2016/17</P>',\n",
       " 'QHyX9p++kuMV15zHL955iKVIE+kMIJ26Dd12Zs8xCy14': '博努奇',\n",
       " 'QHyX9p++kuMV18zFLt52j6NOE+4OJsGyCY16btAgPC57RA': '1987-5-1',\n",
       " 'QHyX9p++kuMV15nGfYl2iqMdR7UMd8G7X4pwYsszPD4': '190cm',\n",
       " 'QHyX9p++kuMV15vFL9J2KIbQO9bdpruCI9odc0yPSZYkLa': '<P>\\u3000\\u3000莱昂纳多&#183;博努奇（Leonardo Bonucci），1987年5月1日出生于意大利中部拉齐奥大区的维特波，并在在家乡的维特波青年队开始了自己的职业生涯。<BR><BR>\\u3000\\u3000<STRONG>生涯早期<BR><BR></STRONG>\\u3000\\u30002005赛季，博努奇被租借到国际米兰，进入国际米兰青年队。2005/06赛季最后一轮联赛，博努奇在对阵卡利亚里的比赛完成自己的意甲首秀。而在那个赛季结束后，国际米兰收购了博努奇的全部所有权。<BR><BR>\\u3000\\u30002007年1月，国际米兰把博努奇的一半所有权出售给意乙的特雷维索俱乐部，但博努奇一直得不到上场的机会。同时，博努奇跟随国米获得了当年意大利青年队联赛的冠军。<BR><BR>\\u3000\\u30002007年7月，博努奇正式加盟特雷维索，博努奇成为球队的主力，在意乙为特雷维索出场27次。2008年6月，国际米兰购回了他的所有权，后将他租借至比萨队。<BR><BR>\\u3000\\u30002009年6月，国米把博努奇卖给热那亚，后者随即把博努奇的一半所有权售给升班马巴里。2009/10赛季，博努奇和拉诺基亚组成的中卫搭档成为了巴里主力中卫，巴里成为当赛季上半程失球最少的球队。<BR><BR>\\u3000\\u3000<STRONG>尤文图斯<BR><BR></STRONG>\\u3000\\u30002010年夏天，尤文图斯耗资1550万欧元收购了博努奇，双方签约5年。<BR><BR>\\u3000\\u30002011-12赛季博努奇与基耶利尼，巴尔扎利成为三中卫防线，帮助球队夺得联赛冠军，此后连续多个赛季帮助球队卫冕成功。<BR><BR>\\u3000\\u30002012-13赛季，博努奇帮助尤文图斯夺得了意甲和意大利超级杯的冠军。2013-14赛季，博努奇帮助尤文图斯夺得意甲和意大利超级杯冠军，完成了意甲联赛的三连冠，此外博努奇入选了该赛季欧联杯的最佳阵容。2014-15赛季，博努奇为尤文图斯在各项赛事出战52次，打入4个进球，不仅帮助球队成为国内的双冠王，而且还帮助尤文图斯杀入该赛季的欧冠决赛。52次出场也是博努奇生涯单赛季出场次数最多。<BR><BR>\\u3000\\u30002015-16赛季，博努奇帮助尤文图斯夺得意甲、意大利杯、意大利超级杯冠军；博努奇在意甲联赛中出场33次，首发32次，打入2球助攻2次；博努奇等人组成的后防线在意甲仅丢18球。2016-17赛季，博努奇帮助尤文图斯夺得意甲和意大利杯冠军，并随尤文图斯再度打进欧冠决赛。博努奇在尤文图斯效力7个赛季，在各项赛事319次出场打进21球，拿到12个冠军。<BR><BR>\\u3000\\u3000<STRONG>AC米兰<BR><BR>\\u3000\\u3000</STRONG>2017年7月15日，AC米兰官方宣布签下博努奇，双方签下了一份2022年到期的合同。博努奇也成为2017夏米兰第9签。加盟米兰后，博努奇也得到了球队的队长袖标。<BR><BR>\\u3000\\u3000<STRONG>重回尤文<BR><BR>\\u3000\\u3000</STRONG>2018年8月3日，AC米兰与尤文图斯完成了冈萨洛&#183;伊瓜因、马蒂亚&#183;卡尔达拉与博努奇的三人交易。伊瓜因和卡尔达拉从尤文图斯加盟米兰，而博努奇则重回尤文图斯。尤文图斯官方表示，博努奇的转会费为3500万欧元，分两期支付，双方签约至2023年。<BR><BR>\\u3000\\u3000<STRONG>国家队生涯<BR><BR></STRONG>\\u3000\\u3000博努奇曾在2007年入选过意大利U20青年队，2010年被里皮相中，随队参加南非世界杯。在随后的2012年欧洲杯、2014年南非世界杯和2016年欧洲杯，博努奇都是意大利国家队的一员。<BR><BR>\\u3000\\u30002018年俄罗斯世界杯欧洲区预选赛，博努奇参加了8场小组赛以及意大利对阵瑞典的2场附加赛，但最终意大利在附加赛两回合总比分0-1不敌瑞典，时隔60年再次无缘世界杯。<BR><BR>\\u3000\\u3000<STRONG>技术特点<BR><BR></STRONG>\\u3000\\u3000博努奇身高1.9米，人高马大，在定位球战术中极具攻击性。博努奇脚下技术细腻、传球精准，尤其是在中后场或是反击时的更以精准长传出名。</P>',\n",
       " 'QHyX9p++kuMV18qXfNN23JLRO4OI5zpXIhyaMs6MCtuWA': '2018-8-2',\n",
       " 'e_index': 6,\n",
       " 'link': '2'}"
      ]
     },
     "execution_count": 72,
     "metadata": {},
     "output_type": "execute_result"
    }
   ],
   "source": [
    "player_info"
   ]
  },
  {
   "cell_type": "code",
   "execution_count": 70,
   "metadata": {
    "scrolled": true
   },
   "outputs": [
    {
     "ename": "KeyError",
     "evalue": "'iSvnQ357C3NEKYH7VCcCikgQXCwa+W0IicOP2zY7nmQ'",
     "output_type": "error",
     "traceback": [
      "\u001b[1;31m---------------------------------------------------------------------------\u001b[0m",
      "\u001b[1;31mKeyError\u001b[0m                                  Traceback (most recent call last)",
      "\u001b[1;32m<ipython-input-70-fd44851e7750>\u001b[0m in \u001b[0;36m<module>\u001b[1;34m\u001b[0m\n\u001b[0;32m      1\u001b[0m \u001b[0mplayer_info\u001b[0m \u001b[1;33m=\u001b[0m \u001b[0mget_player_info\u001b[0m\u001b[1;33m(\u001b[0m\u001b[1;36m39634\u001b[0m\u001b[1;33m)\u001b[0m\u001b[1;33m\u001b[0m\u001b[1;33m\u001b[0m\u001b[0m\n\u001b[1;32m----> 2\u001b[1;33m \u001b[0mget_fs\u001b[0m\u001b[1;33m(\u001b[0m\u001b[0mplayer_info\u001b[0m\u001b[1;33m)\u001b[0m\u001b[1;33m\u001b[0m\u001b[1;33m\u001b[0m\u001b[0m\n\u001b[0m",
      "\u001b[1;32m<ipython-input-69-9488ffdc7724>\u001b[0m in \u001b[0;36mget_fs\u001b[1;34m(player_info)\u001b[0m\n\u001b[0;32m      3\u001b[0m     \u001b[0mfs\u001b[0m \u001b[1;33m=\u001b[0m \u001b[1;33m[\u001b[0m\u001b[1;33m]\u001b[0m\u001b[1;33m\u001b[0m\u001b[1;33m\u001b[0m\u001b[0m\n\u001b[0;32m      4\u001b[0m     \u001b[1;32mfor\u001b[0m \u001b[0mf\u001b[0m \u001b[1;32min\u001b[0m \u001b[0mfeatures\u001b[0m\u001b[1;33m:\u001b[0m\u001b[1;33m\u001b[0m\u001b[1;33m\u001b[0m\u001b[0m\n\u001b[1;32m----> 5\u001b[1;33m         \u001b[0mfea\u001b[0m \u001b[1;33m=\u001b[0m \u001b[0mplayer_info\u001b[0m\u001b[1;33m[\u001b[0m\u001b[0mPLAYER_ATTR_FACTORY\u001b[0m\u001b[1;33m[\u001b[0m\u001b[0mf\u001b[0m\u001b[1;33m]\u001b[0m\u001b[1;33m]\u001b[0m\u001b[1;33m\u001b[0m\u001b[1;33m\u001b[0m\u001b[0m\n\u001b[0m\u001b[0;32m      6\u001b[0m         \u001b[0mfs\u001b[0m\u001b[1;33m.\u001b[0m\u001b[0mappend\u001b[0m\u001b[1;33m(\u001b[0m\u001b[0mfea\u001b[0m\u001b[1;33m)\u001b[0m\u001b[1;33m\u001b[0m\u001b[1;33m\u001b[0m\u001b[0m\n\u001b[0;32m      7\u001b[0m \u001b[1;31m#         print(player_info[PLAYER_ATTR_FACTORY[f]])\u001b[0m\u001b[1;33m\u001b[0m\u001b[1;33m\u001b[0m\u001b[1;33m\u001b[0m\u001b[0m\n",
      "\u001b[1;31mKeyError\u001b[0m: 'iSvnQ357C3NEKYH7VCcCikgQXCwa+W0IicOP2zY7nmQ'"
     ]
    }
   ],
   "source": [
    "\n",
    "get_fs(player_info)"
   ]
  },
  {
   "cell_type": "code",
   "execution_count": 55,
   "metadata": {
    "scrolled": true
   },
   "outputs": [
    {
     "name": "stdout",
     "output_type": "stream",
     "text": [
      "jmrq ++++ 2018-8-2\n",
      "xlqd ++++ 尤文图斯\n",
      "xlsc ++++ 2\n",
      "zhf ++++ 3500万欧元\n",
      "qyjs ++++ <P>　　莱昂纳多&#183;博努奇（Leonardo Bonucci），1987年5月1日出生于意大利中部拉齐奥大区的维特波，并在在家乡的维特波青年队开始了自己的职业生涯。<BR><BR>　　<STRONG>生涯早期<BR><BR></STRONG>　　2005赛季，博努奇被租借到国际米兰，进入国际米兰青年队。2005/06赛季最后一轮联赛，博努奇在对阵卡利亚里的比赛完成自己的意甲首秀。而在那个赛季结束后，国际米兰收购了博努奇的全部所有权。<BR><BR>　　2007年1月，国际米兰把博努奇的一半所有权出售给意乙的特雷维索俱乐部，但博努奇一直得不到上场的机会。同时，博努奇跟随国米获得了当年意大利青年队联赛的冠军。<BR><BR>　　2007年7月，博努奇正式加盟特雷维索，博努奇成为球队的主力，在意乙为特雷维索出场27次。2008年6月，国际米兰购回了他的所有权，后将他租借至比萨队。<BR><BR>　　2009年6月，国米把博努奇卖给热那亚，后者随即把博努奇的一半所有权售给升班马巴里。2009/10赛季，博努奇和拉诺基亚组成的中卫搭档成为了巴里主力中卫，巴里成为当赛季上半程失球最少的球队。<BR><BR>　　<STRONG>尤文图斯<BR><BR></STRONG>　　2010年夏天，尤文图斯耗资1550万欧元收购了博努奇，双方签约5年。<BR><BR>　　2011-12赛季博努奇与基耶利尼，巴尔扎利成为三中卫防线，帮助球队夺得联赛冠军，此后连续多个赛季帮助球队卫冕成功。<BR><BR>　　2012-13赛季，博努奇帮助尤文图斯夺得了意甲和意大利超级杯的冠军。2013-14赛季，博努奇帮助尤文图斯夺得意甲和意大利超级杯冠军，完成了意甲联赛的三连冠，此外博努奇入选了该赛季欧联杯的最佳阵容。2014-15赛季，博努奇为尤文图斯在各项赛事出战52次，打入4个进球，不仅帮助球队成为国内的双冠王，而且还帮助尤文图斯杀入该赛季的欧冠决赛。52次出场也是博努奇生涯单赛季出场次数最多。<BR><BR>　　2015-16赛季，博努奇帮助尤文图斯夺得意甲、意大利杯、意大利超级杯冠军；博努奇在意甲联赛中出场33次，首发32次，打入2球助攻2次；博努奇等人组成的后防线在意甲仅丢18球。2016-17赛季，博努奇帮助尤文图斯夺得意甲和意大利杯冠军，并随尤文图斯再度打进欧冠决赛。博努奇在尤文图斯效力7个赛季，在各项赛事319次出场打进21球，拿到12个冠军。<BR><BR>　　<STRONG>AC米兰<BR><BR>　　</STRONG>2017年7月15日，AC米兰官方宣布签下博努奇，双方签下了一份2022年到期的合同。博努奇也成为2017夏米兰第9签。加盟米兰后，博努奇也得到了球队的队长袖标。<BR><BR>　　<STRONG>重回尤文<BR><BR>　　</STRONG>2018年8月3日，AC米兰与尤文图斯完成了冈萨洛&#183;伊瓜因、马蒂亚&#183;卡尔达拉与博努奇的三人交易。伊瓜因和卡尔达拉从尤文图斯加盟米兰，而博努奇则重回尤文图斯。尤文图斯官方表示，博努奇的转会费为3500万欧元，分两期支付，双方签约至2023年。<BR><BR>　　<STRONG>国家队生涯<BR><BR></STRONG>　　博努奇曾在2007年入选过意大利U20青年队，2010年被里皮相中，随队参加南非世界杯。在随后的2012年欧洲杯、2014年南非世界杯和2016年欧洲杯，博努奇都是意大利国家队的一员。<BR><BR>　　2018年俄罗斯世界杯欧洲区预选赛，博努奇参加了8场小组赛以及意大利对阵瑞典的2场附加赛，但最终意大利在附加赛两回合总比分0-1不敌瑞典，时隔60年再次无缘世界杯。<BR><BR>　　<STRONG>技术特点<BR><BR></STRONG>　　博努奇身高1.9米，人高马大，在定位球战术中极具攻击性。博努奇脚下技术细腻、传球精准，尤其是在中后场或是反击时的更以精准长传出名。</P>\n",
      "unkonw1 ++++ 1\n",
      "qyhm ++++ 19\n",
      "sjjlb ++++ AC米兰\n",
      "sj ++++ 18000000.00\n",
      "xlqds ++++ AC米兰,尤文图斯,巴里,热那亚,国际米兰,比萨[租借],特雷维索[租借],国际米兰(U19),维特波\n",
      "grry ++++ <P><STRONG>俱乐部<BR>国际米兰<BR></STRONG>意甲联赛冠军：2005/06<BR><BR><STRONG>尤文图斯<BR></STRONG>意甲联赛冠军：2011/12、2012/13、2013/14、2014/15、2015/16、2016/17、2018/19、2019/20<BR>意大利超级杯冠军：2012、2013、2015、2018、2020<BR>意大利杯冠军：2014/15、2015/16、2016/17<BR>欧冠杯亚军：2014/15、2016/17<BR><STRONG><BR>国家队<BR>意大利</STRONG><BR>欧洲杯亚军：2012<BR>FIFA联合会杯季军：2013<BR><BR><STRONG>个人<BR></STRONG>欧冠联赛赛季最佳阵容：2013/14 <BR>意甲联赛年度最佳阵容：2014/15、2015/16<BR>欧洲足联年度最佳阵容：2016<BR>意甲奥斯卡奖年度最佳球员：2016<BR>欧冠杯赛季最佳队伍：2016/17<BR>年度ESM团队：2016/17</P>\n",
      "ywm ++++ Leonardo Bonucci\n",
      "csrq ++++ 1987-5-1\n",
      "tz ++++ 82kg\n",
      "gj ++++ 意大利\n",
      "sg ++++ 190cm\n"
     ]
    }
   ],
   "source": [
    "for k in PLAYER_ATTR_FACTORY.keys():\n",
    "    print(k, '++++', player_info[PLAYER_ATTR_FACTORY[k]])"
   ]
  },
  {
   "cell_type": "code",
   "execution_count": 57,
   "metadata": {},
   "outputs": [
    {
     "data": {
      "text/plain": [
       "dict_keys(['jmrq', 'xlqd', 'xlsc', 'zhf', 'qyjs', 'unkonw1', 'qyhm', 'sjjlb', 'sj', 'xlqds', 'grry', 'ywm', 'csrq', 'tz', 'gj', 'sg'])"
      ]
     },
     "execution_count": 57,
     "metadata": {},
     "output_type": "execute_result"
    }
   ],
   "source": [
    "PLAYER_ATTR_FACTORY.keys()"
   ]
  },
  {
   "cell_type": "code",
   "execution_count": 58,
   "metadata": {},
   "outputs": [],
   "source": []
  },
  {
   "cell_type": "code",
   "execution_count": 64,
   "metadata": {},
   "outputs": [],
   "source": []
  },
  {
   "cell_type": "code",
   "execution_count": 62,
   "metadata": {},
   "outputs": [
    {
     "data": {
      "text/plain": [
       "['2018-8-2',\n",
       " '尤文图斯',\n",
       " '2',\n",
       " '18000000.00',\n",
       " 'AC米兰,尤文图斯,巴里,热那亚,国际米兰,比萨[租借],特雷维索[租借],国际米兰(U19),维特波',\n",
       " '1987-5-1',\n",
       " '82kg',\n",
       " '意大利',\n",
       " '190cm']"
      ]
     },
     "execution_count": 62,
     "metadata": {},
     "output_type": "execute_result"
    }
   ],
   "source": [
    "fs"
   ]
  },
  {
   "cell_type": "code",
   "execution_count": null,
   "metadata": {},
   "outputs": [],
   "source": []
  }
 ],
 "metadata": {
  "kernelspec": {
   "display_name": "Python 3",
   "language": "python",
   "name": "python3"
  },
  "language_info": {
   "codemirror_mode": {
    "name": "ipython",
    "version": 3
   },
   "file_extension": ".py",
   "mimetype": "text/x-python",
   "name": "python",
   "nbconvert_exporter": "python",
   "pygments_lexer": "ipython3",
   "version": "3.7.6"
  }
 },
 "nbformat": 4,
 "nbformat_minor": 4
}
